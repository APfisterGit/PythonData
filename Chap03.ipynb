{
 "cells": [
  {
   "attachments": {},
   "cell_type": "markdown",
   "metadata": {},
   "source": [
    "# \n",
    "\n",
    "<h1 style=\"background-color:#aa0000;color:white;padding:10px;text-align:center;font-size:60px;border-bottom:10px solid white;\">\n",
    "CHAPITRE 03<br>\n",
    "<img src=\"https://media.giphy.com/media/KAq5w47R9rmTuvWOWa/giphy.gif\" width=60><br>\n",
    "LES BASES (SUITE)\n",
    "</h1>"
   ]
  },
  {
   "attachments": {},
   "cell_type": "markdown",
   "metadata": {},
   "source": [
    "##\n",
    "\n",
    "<h2 style=\"background-color:#aa0000;color:white;padding:10px;text-align:left;font-size:30px;border-bottom:6px solid #ffffff;\">\n",
    "Les chaînes de caractères\n",
    "</h2>"
   ]
  },
  {
   "attachments": {},
   "cell_type": "markdown",
   "metadata": {},
   "source": [
    "### \n",
    "\n",
    "<h3 style=\"border-bottom:6px solid #ff0000;\">\n",
    "\n",
    "Sur 1 ligne\n",
    "\n",
    "</h3>"
   ]
  },
  {
   "attachments": {},
   "cell_type": "markdown",
   "metadata": {},
   "source": [
    "- Englober la chaîne de caractères par des `'`\n",
    "- Englober la chaîne de caractères par des `\"`"
   ]
  },
  {
   "attachments": {},
   "cell_type": "markdown",
   "metadata": {},
   "source": [
    "<div style=\"background-color:#333366;padding:10px;color:#ffffff;border-left:10px solid #9999ff;\">\n",
    "<b>🖥️ EXEMPLE</b>\n",
    "\n",
    "```python\n",
    "'Hello World'\n",
    "\"Hello World\"\n",
    "```\n",
    "</div>"
   ]
  },
  {
   "attachments": {},
   "cell_type": "markdown",
   "metadata": {},
   "source": [
    "### \n",
    "<h3 style=\"border-bottom:6px solid #ff0000;\">\n",
    "\n",
    "Sur plusieurs lignes\n",
    "\n",
    "</h3>"
   ]
  },
  {
   "attachments": {},
   "cell_type": "markdown",
   "metadata": {},
   "source": [
    "- Englober la chaîne de caractères par des `'''` (triples `'`)\n",
    "- Englober la chaîne de caractères par des `\"\"\"` (triples `\"`)"
   ]
  },
  {
   "attachments": {},
   "cell_type": "markdown",
   "metadata": {},
   "source": [
    "<div style=\"background-color:#333366;padding:10px;color:#ffffff;border-left:10px solid #9999ff;\">\n",
    "<b>🖥️ EXEMPLE</b>\n",
    "\n",
    "```python\n",
    "'''\n",
    "Hello \n",
    "World\n",
    "'''\n",
    "\n",
    "\"\"\"\n",
    "Hello\n",
    "World\n",
    "\"\"\"\n",
    "```\n",
    "</div>"
   ]
  },
  {
   "attachments": {},
   "cell_type": "markdown",
   "metadata": {},
   "source": [
    "### \n",
    "<h3 style=\"border-bottom:6px solid #ff0000;\">\n",
    "\n",
    "Les caractères spéciaux\n",
    "\n",
    "</h3>"
   ]
  },
  {
   "attachments": {},
   "cell_type": "markdown",
   "metadata": {},
   "source": [
    "- `''` : ligne vide\n",
    "- `'\\n'` : retour à la ligne\n",
    "- `'\\t'` : tabulation"
   ]
  },
  {
   "attachments": {},
   "cell_type": "markdown",
   "metadata": {},
   "source": [
    "<div style=\"background-color:#663333;padding:10px;color:#ffffff;border-left:10px solid #ff9999;\">\n",
    "<b>🧠 EXERCICE</b>\n",
    "\n",
    "1. Afficher la chaîne de caractères `\"Hello World!\"` en utilisant la fonction [`print`](https://docs.python.org/3/library/functions.html#print).\n",
    "2. De la même manière, afficher une chaîne de caractères tenant sur plusieurs lignes.\n",
    "3. Afficher des chaînes de caractères contenant les caractères spéciaux précédents.\n",
    "</div>"
   ]
  },
  {
   "attachments": {},
   "cell_type": "markdown",
   "metadata": {},
   "source": [
    "<div style=\"background-color:#663333;padding:10px;color:#ffffff;border-left:10px solid #ff9999;\">\n",
    "<b>🧠 EXERCICE</b>\n",
    "\n",
    "Écrire un programme d'une seule ligne qui affiche le résultat suivant :\n",
    "\n",
    "```\n",
    "Item1:\n",
    "        field1;\n",
    "        field2;\n",
    "        field3:\n",
    "                sub_field1;\n",
    "                sub_field2;\n",
    "Item2;    \n",
    "```\n",
    "\n",
    "Attention aux tabulations et aux retours à la ligne. Utiliser en particulier les caractères `\\n` et `\\t`.\n",
    "</div>"
   ]
  },
  {
   "attachments": {},
   "cell_type": "markdown",
   "metadata": {},
   "source": [
    "### \n",
    "<h3 style=\"border-bottom:6px solid #ff0000;\">\n",
    "\n",
    "[Les méthodes](https://docs.python.org/3.11/library/stdtypes.html#string-methods) sur les chaînes de caractères\n",
    "\n",
    "</h3>"
   ]
  },
  {
   "attachments": {},
   "cell_type": "markdown",
   "metadata": {},
   "source": [
    "- `capitalize()` : met la première lettre en majuscule\n",
    "- `lower()` : met toutes les lettres en minuscules\n",
    "- `upper()` : met toutes les lettres en majuscules\n",
    "- `count(word)` : compte le nombre d'occurences de `word` dans la chaîne de caractères\n",
    "- `find(sub_word)` : recherche `sub_word` dans la chaîne de caractères et retourne l'indice correspondant, et -1 sinon\n",
    "- `replace(sub_word, replacement_word)` : recherche `sub_word` dans la chaîne de caractères et le remplace par `replacement_word`\n",
    "- `lstrip()` / `rstrip()` / `strip()` : enlève les espaces en début / fin / début **et** fin de la chaîne de caractères"
   ]
  },
  {
   "attachments": {},
   "cell_type": "markdown",
   "metadata": {},
   "source": [
    "<div style=\"background-color:#663333;padding:10px;color:#ffffff;border-left:10px solid #ff9999;\">\n",
    "<b>🧠 EXERCICE</b>\n",
    "\n",
    "1. Créer la chaîne de caractères `\" Hello world! How are you? \"` avec des espaces en début et fin de chaîne.\n",
    "2. Utiliser les fonctions ci-dessus et noter ce qu'elles font.\n",
    "</div>"
   ]
  },
  {
   "attachments": {},
   "cell_type": "markdown",
   "metadata": {},
   "source": [
    "<div style=\"background-color:#663333;padding:10px;color:#ffffff;border-left:10px solid #ff9999;\">\n",
    "<b>🧠 EXERCICE</b>\n",
    "\n",
    "Écrire un programme qui vérifie si une chaîne de caractères contient au moins 1 caractère en majuscule\n",
    "\n",
    "**NOTE :** il existe aussi la fonction `islower()` qui permet de le faire automatiquement.\n",
    "</div>"
   ]
  },
  {
   "attachments": {},
   "cell_type": "markdown",
   "metadata": {},
   "source": [
    "### \n",
    "<h3 style=\"border-bottom:6px solid #ff0000;\">\n",
    "\n",
    "L'opérateur `+`\n",
    "\n",
    "</h3>"
   ]
  },
  {
   "attachments": {},
   "cell_type": "markdown",
   "metadata": {},
   "source": [
    "Permet de concaténer plusieurs chaînes de caractères."
   ]
  },
  {
   "attachments": {},
   "cell_type": "markdown",
   "metadata": {},
   "source": [
    "<div style=\"background-color:#663333;padding:10px;color:#ffffff;border-left:10px solid #ff9999;\">\n",
    "<b>🧠 EXERCICE</b>\n",
    "\n",
    "1. Utiliser `+` pour concaténer 2 chaînes de caractères et afficher le résultat.\n",
    "</div>"
   ]
  },
  {
   "attachments": {},
   "cell_type": "markdown",
   "metadata": {},
   "source": [
    "### \n",
    "<h3 style=\"border-bottom:6px solid #ff0000;\">\n",
    "\n",
    "L'opérateur `*`\n",
    "\n",
    "</h3>"
   ]
  },
  {
   "attachments": {},
   "cell_type": "markdown",
   "metadata": {},
   "source": [
    "Permet de dupliquer une chaînes de caractères."
   ]
  },
  {
   "attachments": {},
   "cell_type": "markdown",
   "metadata": {},
   "source": [
    "<div style=\"background-color:#663333;padding:10px;color:#ffffff;border-left:10px solid #ff9999;\">\n",
    "<b>🧠 EXERCICE</b>\n",
    "\n",
    "1. Utiliser `+` pour concaténer 2 chaînes de caractères et afficher le résultat.\n",
    "2. Utiliser `*` pour dupliquer une chaîne de caractères et afficher le résultat.\n",
    "</div>"
   ]
  },
  {
   "attachments": {},
   "cell_type": "markdown",
   "metadata": {},
   "source": [
    "##\n",
    "\n",
    "<h2 style=\"background-color:#aa0000;color:white;padding:10px;text-align:left;font-size:30px;border-bottom:6px solid #ffffff;\">\n",
    "Les conversions\n",
    "</h2>"
   ]
  },
  {
   "attachments": {},
   "cell_type": "markdown",
   "metadata": {},
   "source": [
    "### \n",
    "<h3 style=\"border-bottom:6px solid #ff0000;\">\n",
    "\n",
    "Les fonctions de conversion\n",
    "\n",
    "</h3>"
   ]
  },
  {
   "attachments": {},
   "cell_type": "markdown",
   "metadata": {},
   "source": [
    "- **[`str(value)`](https://docs.python.org/3/library/functions.html#func-str)** convertit `value` en chaîne de caractères.\n",
    "- **[`int(value)`](https://docs.python.org/3/library/functions.html#int)** convertit `value` en entier.\n",
    "- **[`float(value)`](https://docs.python.org/3/library/functions.html#float)** convertit `value` en flottant.\n",
    "- **[`bool(value)`](https://docs.python.org/3/library/functions.html#bool)** convertit `value` en booléen."
   ]
  },
  {
   "cell_type": "markdown",
   "metadata": {},
   "source": [
    "<div style=\"background-color:#663333;padding:10px;color:#ffffff;border-left:10px solid #ff9999;\">\n",
    "<b>EXERCICE</b>\n",
    "\n",
    "1. Utiliser les fonctions de conversion pour convertir des valeurs des 4 types (`str`, `int`, `float` et `bool`) vers les autres types.\n",
    "2. Quelles règles peut-on en déduire pour les fonctions `bool()`, `int()` et `float()` ?\n",
    "</div>"
   ]
  },
  {
   "attachments": {},
   "cell_type": "markdown",
   "metadata": {},
   "source": [
    "##\n",
    "\n",
    "<h2 style=\"background-color:#aa0000;color:white;padding:10px;text-align:left;font-size:30px;border-bottom:6px solid #ffffff;\">\n",
    "Les tuples\n",
    "</h2>"
   ]
  },
  {
   "cell_type": "markdown",
   "metadata": {},
   "source": [
    "- Structure regroupant plusieurs objets.\n",
    "- Les objets peuvent être de **types différents**.\n",
    "- Créé avec `()`.\n",
    "- On accède aux objets avec l'opérateur `[]`.\n",
    "- Indexé à partir de **0**.\n",
    "- **Immuable** (***immutable*** en Anglais) : il ne peut pas être modifié après sa définition."
   ]
  },
  {
   "attachments": {},
   "cell_type": "markdown",
   "metadata": {},
   "source": [
    "<div style=\"background-color:#333366;padding:10px;color:#ffffff;border-left:10px solid #9999ff;\">\n",
    "<b>🖥️ EXEMPLE</b>\n",
    "\n",
    "```python\n",
    "my_tuple = (\"prénom\", \"nom\", 42, True, 4.2)\n",
    "print(my_tuple[3])\n",
    "```\n",
    "</div>"
   ]
  },
  {
   "attachments": {},
   "cell_type": "markdown",
   "metadata": {},
   "source": [
    "<div style=\"background-color:#663333;padding:10px;color:#ffffff;border-left:10px solid #ff9999;\">\n",
    "<b>🧠 EXERCICE</b>\n",
    "\n",
    "1. Créer un tuple contenant des chaînes de caractères, des entiers, des floats et des booléens.\n",
    "2. Afficher les objets du tuple un par un.\n",
    "3. Essayez de changer la valeur des objets du tuple. Notez bien l'erreur obtenue.\n",
    "</div>"
   ]
  },
  {
   "attachments": {},
   "cell_type": "markdown",
   "metadata": {},
   "source": [
    "<div style=\"background-color:#663333;padding:10px;color:#ffffff;border-left:10px solid #ff9999;\">\n",
    "<b>🧠 EXERCICE</b>\n",
    "\n",
    "1. Créer des tuples pour contenir les informations concernant les cours (numéro, titre, jour, nombre de périodes).\n",
    "2. Afficher les tuples créés.\n",
    "</div>"
   ]
  },
  {
   "attachments": {},
   "cell_type": "markdown",
   "metadata": {},
   "source": [
    "##\n",
    "\n",
    "<h2 style=\"background-color:#aa0000;color:white;padding:10px;text-align:left;font-size:30px;border-bottom:6px solid #ffffff;\">\n",
    "Les listes\n",
    "</h2>"
   ]
  },
  {
   "cell_type": "markdown",
   "metadata": {},
   "source": [
    "- Structure regroupant plusieurs objets.\n",
    "- Les objets peuvent être de **types différents**.\n",
    "- Créée avec `[]`.\n",
    "- On accède aux objets avec l'opérateur `[]`.\n",
    "- Indexée à partir de **0**.\n",
    "- **muable** (***mutable*** en Anglais) : elle **peut** être modifiée après sa définition."
   ]
  },
  {
   "attachments": {},
   "cell_type": "markdown",
   "metadata": {},
   "source": [
    "<div style=\"background-color:#333366;padding:10px;color:#ffffff;border-left:10px solid #9999ff;\">\n",
    "<b>🖥️ EXEMPLE</b>\n",
    "\n",
    "```python\n",
    "my_list = [\"prénom\", \"nom\", 42, True, 4.2]\n",
    "print(my_list[3])\n",
    "```\n",
    "</div>"
   ]
  },
  {
   "attachments": {},
   "cell_type": "markdown",
   "metadata": {},
   "source": [
    "<div style=\"background-color:#663333;padding:10px;color:#ffffff;border-left:10px solid #ff9999;\">\n",
    "<b>🧠 EXERCICE</b>\n",
    "\n",
    "1. Créer une liste contenant des chaînes de caractères, des entiers, des floats et des booléens.\n",
    "2. Afficher les objets de la liste un par un.\n",
    "3. Modifier la valeur de plusieurs éléments de la liste.\n",
    "4. Essayer de rajouter un élément à la fin de la liste avec l'opérateur `[]` et noter l'erreur affichée.\n",
    "</div>"
   ]
  },
  {
   "attachments": {},
   "cell_type": "markdown",
   "metadata": {},
   "source": [
    "### \n",
    "<h3 style=\"border-bottom:6px solid #ff0000;\">\n",
    "\n",
    "[Méthodes sur les listes](https://docs.python.org/3/tutorial/datastructures.html#more-on-lists)\n",
    "\n",
    "</h3>"
   ]
  },
  {
   "attachments": {},
   "cell_type": "markdown",
   "metadata": {},
   "source": [
    "- `append()` : rajoute un élément à la fin\n",
    "- `insert(i, val)` : insert `val` à l'indice `i`\n",
    "- `pop(i)` : retire l'élément à l'indice `i` et le retourne en résultat\n",
    "- `reverse()` : inverse la liste\n",
    "- `extend(list)` : rajoute chaque élément de `list` à la fin de la liste\n",
    "- opérateur `+` : identique à `extend(list)`\n",
    "- `index(val)` : indice de l'élément de valeur `val`\n",
    "- `count(val)` : nombre d'éléments de valeur `val`\n",
    "- `remove(val)` : enlève **le premier élément** de valeur `val`"
   ]
  },
  {
   "attachments": {},
   "cell_type": "markdown",
   "metadata": {},
   "source": [
    "<div style=\"background-color:#333366;padding:10px;color:#ffffff;border-left:10px solid #9999ff;\">\n",
    "<b>🖥️ EXEMPLE</b>\n",
    "\n",
    "```python\n",
    "my_list = [\"nom\", \"prénom\"]\n",
    "my_list.append(99)\n",
    "my_list.insert(1, \"surnom\")\n",
    "value = my_list.pop(3)\n",
    "my_list.reverse()\n",
    "my_list.extend([7.3, 32., False])\n",
    "my_list = my_list + [True, False]\n",
    "first_name = my_list.index(\"prénom\")\n",
    "count = my_list.count(False)\n",
    "my_list.remove(False)\n",
    "```\n",
    "</div>"
   ]
  },
  {
   "attachments": {},
   "cell_type": "markdown",
   "metadata": {},
   "source": [
    "<div style=\"background-color:#663333;padding:10px;color:#ffffff;border-left:10px solid #ff9999;\">\n",
    "<b>🧠 EXERCICE</b>\n",
    "\n",
    "1. Créer une liste contenant des objets de types différents.\n",
    "2. Modifier la liste créée en utilisant les fonctions précédentes.\n",
    "3. Imprimer la liste à chaque étape.\n",
    "</div>"
   ]
  },
  {
   "attachments": {},
   "cell_type": "markdown",
   "metadata": {},
   "source": [
    "### \n",
    "<h3 style=\"border-bottom:6px solid #ff0000;\">\n",
    "\n",
    "Extraction d'éléments d'une liste\n",
    "\n",
    "</h3>"
   ]
  },
  {
   "attachments": {},
   "cell_type": "markdown",
   "metadata": {},
   "source": [
    "L'opérateur `[i]` permet d'accéder à l'élément d'indice `i`\n",
    "\n",
    "L'opérateur `[i:j]` permet d'accéder aux éléments entre les indices `i` inclus, et `j` **non-inclus**\n",
    "\n",
    "**Remarques :**\n",
    "- On peut omettre `i` si on souhaite prendre les éléments depuis le début de la liste.\n",
    "- On peut omettre `j` si on souhaite prendre les éléments jusqu'à la fin de la liste.\n",
    "- L'indexation est circulaire : 0 est l'indice du premier élément, -1 l'indice du dernier élément, -2 l'indice de l'avant-dernier élément, etc.\n"
   ]
  },
  {
   "attachments": {},
   "cell_type": "markdown",
   "metadata": {},
   "source": [
    "<div style=\"background-color:#663333;padding:10px;color:#ffffff;border-left:10px solid #ff9999;\">\n",
    "<b>🧠 EXERCICE</b>\n",
    "\n",
    "1. Créer une liste.\n",
    "2. Récupérer le dernier élément.\n",
    "3. Récupérer la liste constituée des 3 premiers éléments.\n",
    "4. Récupérer la liste constituée des 2 derniers éléments.\n",
    "</div>"
   ]
  },
  {
   "cell_type": "code",
   "execution_count": 5,
   "metadata": {},
   "outputs": [
    {
     "name": "stdout",
     "output_type": "stream",
     "text": [
      "67\n",
      "[1, 2, 3]\n",
      "[5, 67]\n"
     ]
    }
   ],
   "source": [
    "my_list = [1,2,3,4,5,67]\n",
    "last = my_list[-1]\n",
    "three_first = my_list[:3]\n",
    "two_last = my_list[-2:]\n",
    "\n",
    "#print\n",
    "print(last)\n",
    "print(three_first)\n",
    "print(two_last)"
   ]
  },
  {
   "attachments": {},
   "cell_type": "markdown",
   "metadata": {},
   "source": [
    "### \n",
    "<h3 style=\"border-bottom:6px solid #ff0000;\">\n",
    "\n",
    "Chaînes de caractères et listes\n",
    "\n",
    "</h3>"
   ]
  },
  {
   "attachments": {},
   "cell_type": "markdown",
   "metadata": {},
   "source": [
    "Une chaîne de caractères est aussi une liste de caractères.\n",
    "\n",
    "On peut donc aussi utiliser l'indexation.\n",
    "\n",
    "De plus, on utiliser les méthodes suivantes pour convertir entre les chaînes de caractères et les listes :\n",
    "- **[`split()`](https://docs.python.org/3/library/stdtypes.html#str.split)** : créé un liste en séparant les mots de la chaîne de caractères.\n",
    "- **[`join()`](https://docs.python.org/3/library/stdtypes.html#str.join)** : créé une chaîne de caractères en concaténant les éléments d'une liste."
   ]
  },
  {
   "attachments": {},
   "cell_type": "markdown",
   "metadata": {},
   "source": [
    "<div style=\"background-color:#333366;padding:10px;color:#ffffff;border-left:10px solid #9999ff;\">\n",
    "<b>🖥️ EXEMPLE</b>\n",
    "\n",
    "```python\n",
    "my_string1 = \"Hello world! How are you doing?\"\n",
    "my_list = my_string1.split()\n",
    "# Use tab character to join all words in my_list\n",
    "my_string_2 = \"\\t\".join(my_list)\n",
    "```\n",
    "</div>"
   ]
  },
  {
   "attachments": {},
   "cell_type": "markdown",
   "metadata": {},
   "source": [
    "<div style=\"background-color:#663333;padding:10px;color:#ffffff;border-left:10px solid #ff9999;\">\n",
    "<b>🧠 EXERCICE</b>\n",
    "\n",
    "1. Créer une chaîne de caractères contenant plusieurs mots\n",
    "2. Utiliser la fonction `split()` et afficher le résultat\n",
    "3. Utiliser la fonction `join()` sur le résultat précédent et afficher le tout\n",
    "</div>"
   ]
  },
  {
   "attachments": {},
   "cell_type": "markdown",
   "metadata": {},
   "source": [
    "<div style=\"background-color:#663333;padding:10px;color:#ffffff;border-left:10px solid #ff9999;\">\n",
    "<b>🧠 EXERCICE</b>\n",
    "\n",
    "Écrire un programme qui stocke les couleurs des arcs-en-ciel dans une liste puis l'affiche à l'endroit, et à l'envers.\n",
    "</div>"
   ]
  },
  {
   "attachments": {},
   "cell_type": "markdown",
   "metadata": {},
   "source": [
    "<div style=\"background-color:#663333;padding:10px;color:#ffffff;border-left:10px solid #ff9999;\">\n",
    "<b>🧠 EXERCICE</b>\n",
    "\n",
    "Écrire un programme qui affiche le nombre d'occurrences d'un entier (stocké dans une variable) dans une liste pré-créées.\n",
    "</div>"
   ]
  },
  {
   "attachments": {},
   "cell_type": "markdown",
   "metadata": {},
   "source": [
    "<div style=\"background-color:#663333;padding:10px;color:#ffffff;border-left:10px solid #ff9999;\">\n",
    "<b>🧠 EXERCICE</b>\n",
    "\n",
    "Écrire un programme pour concaténer toutes les chaînes de caractères contenues dans une liste pré-créée en les séparant par des `\" \"`.\n",
    "Afficher le résultat.\n",
    "</div>"
   ]
  },
  {
   "cell_type": "markdown",
   "metadata": {},
   "source": [
    "<div style=\"background-color:#663333;padding:10px;color:#ffffff;border-left:10px solid #ff9999;\">\n",
    "<b>🧠 EXERCICE</b>\n",
    "\n",
    "Écrire un programme qui ne garde que les 5 éléments du milieu d'une liste de 15 entiers.\n",
    "</div>"
   ]
  },
  {
   "attachments": {},
   "cell_type": "markdown",
   "metadata": {},
   "source": [
    "## \n",
    "\n",
    "<h2 style=\"background-color:#aa0000;color:white;padding:10px;text-align:left;font-size:30px;border-bottom:6px solid #ffffff;\">\n",
    "Les dictionnaires\n",
    "</h2>"
   ]
  },
  {
   "attachments": {},
   "cell_type": "markdown",
   "metadata": {},
   "source": [
    "- Structure regroupant des associations `clef:valeur`.\n",
    "- Les clefs sont uniques.\n",
    "- Les clefs ainsi que les valeurs peuvent être de **types différents**.\n",
    "- Créé avec `{}`.\n",
    "- On accède aux objets avec l'opérateur `[]`.\n",
    "- Indexé par les clefs.\n",
    "- **muable** (***mutable*** en Anglais) : il **peut** être modifiée après sa définition."
   ]
  },
  {
   "attachments": {},
   "cell_type": "markdown",
   "metadata": {},
   "source": [
    "<div style=\"background-color:#333366;padding:10px;color:#ffffff;border-left:10px solid #9999ff;\">\n",
    "<b>🖥️ EXEMPLE</b>\n",
    "\n",
    "```python\n",
    "my_dict = {34:45, \"34\":46, True:\"True\", \"False\":False}\n",
    "my_dict[\"34\"] = 47\n",
    "my_dict[99] = 100.99\n",
    "```\n",
    "</div>"
   ]
  },
  {
   "attachments": {},
   "cell_type": "markdown",
   "metadata": {},
   "source": [
    "<div style=\"background-color:#663333;padding:10px;color:#ffffff;border-left:10px solid #ff9999;\">\n",
    "<b>🧠 EXERCICE</b>\n",
    "\n",
    "1. Créer un dictionnaire contenant des associations clef:valeur de types différents.\n",
    "2. Rajouter une association `clef:valeur`.\n",
    "3. Éditer une association `clef:valeur`.\n",
    "3. Afficher le dictionnaire à chaque étape.\n",
    "</div>"
   ]
  },
  {
   "attachments": {},
   "cell_type": "markdown",
   "metadata": {},
   "source": [
    "##\n",
    "\n",
    "<h2 style=\"background-color:#aa0000;color:white;padding:10px;text-align:left;font-size:30px;border-bottom:6px solid #ffffff;\">\n",
    "Divers fonctions\n",
    "</h2>"
   ]
  },
  {
   "cell_type": "markdown",
   "metadata": {},
   "source": [
    "- **[`id()`](https://docs.python.org/3/library/functions.html#id)** : retourne l'identifiant unique de la variable.\n",
    "- **[`del variable_name`](https://docs.python.org/3/reference/simple_stmts.html#grammar-token-python-grammar-del_stmt)** : efface la variable `variable_name` de la mémoire. Cette fonction est utile si on définit une variable `str` qui cache la fonction `str(var)` et empêche donc son utilisation ultérieure."
   ]
  },
  {
   "attachments": {},
   "cell_type": "markdown",
   "metadata": {},
   "source": [
    "<div style=\"background-color:#663333;padding:10px;color:#ffffff;border-left:10px solid #ff9999;\">\n",
    "<b>🧠 EXERCICE</b>\n",
    "\n",
    "1. Créer les variables `a` et `b` et leur allouer les valeurs `99` et `100` respectivement.\n",
    "2. Afficher leur identifiant unique.\n",
    "3. Allouer la valeur `b` à `a`.\n",
    "4. Afficher leur identifiant unique. Que se passe-t-il ?\n",
    "5. Allouer la valeur `b+1` à `a`.\n",
    "6. Afficher leur identifiant unique. Que se passe-t-il ?\n",
    "</div>"
   ]
  },
  {
   "attachments": {},
   "cell_type": "markdown",
   "metadata": {},
   "source": [
    "<div style=\"background-color:#663333;padding:10px;color:#ffffff;border-left:10px solid #ff9999;\">\n",
    "<b>🧠 EXERCICE</b>\n",
    "\n",
    "1. Créer (et initialiser) une liste `l1`.\n",
    "2. Créer une liste `l2`et lui assigner `l1`.\n",
    "3. Que se passe-t'il pour `l1` quand on modifie un élément de `l2` ?\n",
    "\n",
    "</div>"
   ]
  },
  {
   "attachments": {},
   "cell_type": "markdown",
   "metadata": {},
   "source": [
    "<div style=\"background-color:#663333;padding:10px;color:#ffffff;border-left:10px solid #ff9999;\">\n",
    "<b>🧠 EXERCICE</b>\n",
    "\n",
    "Écrire un programme qui calcule (et affiche) le périmètre et l'aire d'un rectangle dont les paramètres `width` et `length` sont stockés dans des variables.\n",
    "</div>"
   ]
  },
  {
   "attachments": {},
   "cell_type": "markdown",
   "metadata": {},
   "source": [
    "<div style=\"background-color:#663333;padding:10px;color:#ffffff;border-left:10px solid #ff9999;\">\n",
    "<b>🧠 EXERCICE</b>\n",
    "\n",
    "Écrire un programme qui calcule (et affiche) la circonférence d'un cercle, l'aire d'un disque, la surface d'une sphere, et le volume d'une boule dont le rayon `radius` est stocké dans une variable.</div>"
   ]
  },
  {
   "attachments": {},
   "cell_type": "markdown",
   "metadata": {},
   "source": [
    "<div style=\"background-color:#663333;padding:10px;color:#ffffff;border-left:10px solid #ff9999;\">\n",
    "<b>🧠 EXERCICE</b>\n",
    "\n",
    "Écrire un programme qui calcule la **distance au carré** entre 2 points 3D représentés par des tuples.\n",
    "Afficher le résultat.\n",
    "</div>"
   ]
  },
  {
   "attachments": {},
   "cell_type": "markdown",
   "metadata": {},
   "source": [
    "<div style=\"background-color:#663333;padding:10px;color:#ffffff;border-left:10px solid #ff9999;\">\n",
    "<b>🧠 EXERCICE</b>\n",
    "\n",
    "Écrire un programme qui calcule les **intérêts composés** d'une somme de départ `Si`, d'un taux d'intérêt `tx` et d'un nombre d'années `nb_years`. Appliquer cette formule pour calculer les intérêts composés pour 100 CHF placés à 5% par an pendant 20 ans.\n",
    "\n",
    "**Rappel :**\n",
    "${Sum = S_{i}\\cdot (1 + tx)^{nb_{years}}}$\n",
    "</div>"
   ]
  },
  {
   "attachments": {},
   "cell_type": "markdown",
   "metadata": {},
   "source": [
    "<div style=\"background-color:#663333;padding:10px;color:#ffffff;border-left:10px solid #ff9999;\">\n",
    "<b>🧠 EXERCICE</b>\n",
    "\n",
    "Écrire un programme qui calcule l'Indice de Masse Corporel (IMC) en fonction du poids (en Kg) et la taille (en mètre) :\n",
    "\n",
    "**Rappel :**\n",
    "$IMC = P / {T^2}$\n",
    "\n",
    "</div>"
   ]
  },
  {
   "attachments": {},
   "cell_type": "markdown",
   "metadata": {},
   "source": [
    "<div style=\"background-color:#663333;padding:10px;color:#ffffff;border-left:10px solid #ff9999;\">\n",
    "<b>🧠 EXERCICE</b>\n",
    "\n",
    "Écrire un programme qui échange les valeurs de 2 variables.\n",
    "</div>"
   ]
  },
  {
   "attachments": {},
   "cell_type": "markdown",
   "metadata": {},
   "source": [
    "<div style=\"background-color:#663333;padding:10px;color:#ffffff;border-left:10px solid #ff9999;\">\n",
    "<b>🧠 EXERCICE</b>\n",
    "\n",
    "Écrire un programme qui vérifie (et affiche `True`) si une variable est positive (et affiche `False` sinon).\n",
    "\n",
    "</div>"
   ]
  },
  {
   "attachments": {},
   "cell_type": "markdown",
   "metadata": {},
   "source": [
    "<div style=\"background-color:#663333;padding:10px;color:#ffffff;border-left:10px solid #ff9999;\">\n",
    "<b>🧠 EXERCICE</b>\n",
    "\n",
    "1. Écrire un programme qui vérifie que 2 variables contenant la même chaîne de caractères ont en fait le même identifiant.\n",
    "2. Modifier ce programme pour construire les mêmes chaînes de caractères en concaténant `i` fois avec l'opérateur `*`. Que se passe-t-il ? Pourquoi ?\n",
    "</div>"
   ]
  }
 ],
 "metadata": {
  "kernelspec": {
   "display_name": ".venv",
   "language": "python",
   "name": "python3"
  },
  "language_info": {
   "codemirror_mode": {
    "name": "ipython",
    "version": 3
   },
   "file_extension": ".py",
   "mimetype": "text/x-python",
   "name": "python",
   "nbconvert_exporter": "python",
   "pygments_lexer": "ipython3",
   "version": "3.13.1"
  }
 },
 "nbformat": 4,
 "nbformat_minor": 4
}
