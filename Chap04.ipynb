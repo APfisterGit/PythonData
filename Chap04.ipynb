{
 "cells": [
  {
   "attachments": {},
   "cell_type": "markdown",
   "metadata": {},
   "source": [
    "#\n",
    "\n",
    "<h1 style=\"background-color:#aa0000;color:white;padding:10px;text-align:center;font-size:60px;border-bottom:10px solid white;\">\n",
    "CHAPITRE 4<br>\n",
    "<img src=\"https://media.giphy.com/media/KAq5w47R9rmTuvWOWa/giphy.gif\" width=60><br>\n",
    "CONDITIONS, BOUCLES ET FONCTIONS\n",
    "</h1>"
   ]
  },
  {
   "attachments": {},
   "cell_type": "markdown",
   "metadata": {},
   "source": [
    "## \n",
    "\n",
    "<h2 style=\"background-color:#aa0000;color:white;padding:10px;text-align:left;font-size:30px;border-bottom:6px solid #ffffff;\">\n",
    "Les conditions\n",
    "</h2>"
   ]
  },
  {
   "attachments": {},
   "cell_type": "markdown",
   "metadata": {},
   "source": [
    "###\n",
    " \n",
    "<h3 style=\"border-bottom:6px solid #ff0000;\">\n",
    "\n",
    "**`if...elif...else:`**\n",
    "\n",
    "</h3>"
   ]
  },
  {
   "attachments": {},
   "cell_type": "markdown",
   "metadata": {},
   "source": [
    "**SYNTAXE**\n",
    "\n",
    "```python\n",
    "if <condition>:\n",
    "    <instructions>\n",
    "elif <condition>:\n",
    "    <instructions>\n",
    "else:\n",
    "    <instructions>\n",
    "```"
   ]
  },
  {
   "attachments": {},
   "cell_type": "markdown",
   "metadata": {},
   "source": [
    "<div style=\"background-color:#333366;padding:10px;color:#ffffff;border-left:10px solid #9999ff;\">\n",
    "<b>🖥️ EXEMPLE</b>\n",
    "\n",
    "```python\n",
    "my_int = 101\n",
    "if my_int <= 10:\n",
    "    print(str(my_int) + \" <= 10\")\n",
    "elif my_int <= 100:\n",
    "    print(str(my_int) + \" <= 100\")\n",
    "else:\n",
    "    print(str(my_int) + \" > 100\")\n",
    "```\n",
    "</div>"
   ]
  },
  {
   "attachments": {},
   "cell_type": "markdown",
   "metadata": {},
   "source": [
    "### \n",
    "<h3 style=\"border-bottom:6px solid #ff0000;\">\n",
    "\n",
    "**`else`** est optionnel\n",
    "\n",
    "</h3>"
   ]
  },
  {
   "attachments": {},
   "cell_type": "markdown",
   "metadata": {},
   "source": [
    "<div style=\"background-color:#333366;padding:10px;color:#ffffff;border-left:10px solid #9999ff;\">\n",
    "<b>🖥️ EXEMPLE</b>\n",
    "\n",
    "```python\n",
    "my_int = 101\n",
    "if my_int <= 10:\n",
    "    print(str(my_int) + \" <= 10\")\n",
    "elif my_int <= 100:\n",
    "    print(str(my_int) + \" <= 100\")\n",
    "```\n",
    "</div>"
   ]
  },
  {
   "attachments": {},
   "cell_type": "markdown",
   "metadata": {},
   "source": [
    "### \n",
    "<h3 style=\"border-bottom:6px solid #ff0000;\">\n",
    "\n",
    "**`elif`** est optionnel\n",
    "\n",
    "</h3>"
   ]
  },
  {
   "attachments": {},
   "cell_type": "markdown",
   "metadata": {},
   "source": [
    "<div style=\"background-color:#333366;padding:10px;color:#ffffff;border-left:10px solid #9999ff;\">\n",
    "<b>🖥️ EXEMPLE</b>\n",
    "\n",
    "```python\n",
    "my_int = 101\n",
    "if my_int <= 10:\n",
    "    print(str(my_int) + \" <= 10\")\n",
    "```\n",
    "</div>"
   ]
  },
  {
   "attachments": {},
   "cell_type": "markdown",
   "metadata": {},
   "source": [
    "<div style=\"background-color:#663333;padding:10px;color:#ffffff;border-left:10px solid #ff9999;\">\n",
    "<b>🧠 EXERCICE</b>\n",
    "\n",
    "1. Exécuter les exemples donnés précédemment.\n",
    "2. Modifier les exemples précédents et expérimenter."
   ]
  },
  {
   "attachments": {},
   "cell_type": "markdown",
   "metadata": {},
   "source": [
    "<div style=\"background-color:#336633;padding:10px;color:#ffffff;border-left:10px solid #99ff99;\">\n",
    "<b>👀 RAPPEL : les opérateurs de comparaisons</b>\n",
    "\n",
    "**`is`**, **`is not`**, **`==`**, **`!=`**, **`<`**, **`<=`**, **`>`**, **`>=`**\n",
    "\n",
    "**NOTE :** **`is`** vérifie que les 2 objets sont les mêmes. **`==`** vérifie que les 2 objets ont les mêmes valeurs.\n",
    "\n",
    "**NOTE :** il est préférable d'utiliser **`is`** plutôt que **`id()`** pour vérifier si 2 objets sont les mêmes.\n",
    "\n",
    "</div>"
   ]
  },
  {
   "attachments": {},
   "cell_type": "markdown",
   "metadata": {},
   "source": [
    "<div style=\"background-color:#663333;padding:10px;color:#ffffff;border-left:10px solid #ff9999;\">\n",
    "<b>🧠 EXERCICE</b>\n",
    "\n",
    "Que se passe-t'il quand on exécute le programme suivant ?\n",
    "\n",
    "```python\n",
    "s0 = \"Hello\"\n",
    "s1 = \"Hello\"\n",
    "s2 = s0+s0\n",
    "s3 = s0*2\n",
    "\n",
    "print(id(s0) == id(s1))\n",
    "print(id(s2) == id(s3))\n",
    "print(id(s0+s0) == id(s0*2))\n",
    "print(id(s0+s0) == id(s0*3)) # ?\n",
    "print(id(s0+s0) == id(s0*4)) # ???\n",
    "\n",
    "print(s0 is s1)\n",
    "print(s2 is s3)\n",
    "print((s0+s0) is (s0*2))\n",
    "```"
   ]
  },
  {
   "attachments": {},
   "cell_type": "markdown",
   "metadata": {},
   "source": [
    "<div style=\"background-color:#663333;padding:10px;color:#ffffff;border-left:10px solid #ff9999;\">\n",
    "<b>🧠 EXERCICE</b>\n",
    "\n",
    "1. Créer 2 strings identiques.\n",
    "2. Vérifier qu'elles ont bien la même valeur.\n",
    "3. Vérifier qu'elles sont en fait le même objet.\n",
    "4. Créer 2 strings identiques avec l'opérateur **`*`**.\n",
    "5. Vérifier qu'elles ont bien la même valeur.\n",
    "6. Vérifier qu'elles sont en fait le même objet.\n",
    "7. Faire les mêmes manipulations en utilisant des strings stockées dans des variables.\n",
    "8. Utiliser des caractères spéciaux (**`$`** par exemple).\n",
    "9. Que pouvons-nous en conclure ?"
   ]
  },
  {
   "attachments": {},
   "cell_type": "markdown",
   "metadata": {},
   "source": [
    "<div style=\"background-color:#663333;padding:10px;color:#ffffff;border-left:10px solid #ff9999;\">\n",
    "<b>🧠 EXERCICE</b>\n",
    "\n",
    "1. Expérimenter avec des conditions sur des entiers.\n",
    "2. Expérimenter avec des conditions sur des flottants.\n",
    "3. Expérimenter avec des conditions sur des strings."
   ]
  },
  {
   "attachments": {},
   "cell_type": "markdown",
   "metadata": {},
   "source": [
    "<div style=\"background-color:#663333;padding:10px;color:#ffffff;border-left:10px solid #ff9999;\">\n",
    "<b>🧠 EXERCICE</b>\n",
    "\n",
    "Que se passe-t'il quand on compare les valeurs de `i`, `j` et `k` ?\n",
    "\n",
    "```python\n",
    "i = 0.1+0.1+0.1+0.1+0.1+0.1+0.1+0.1+0.1+0.1\n",
    "j = 1.\n",
    "k = 0.1*10\n",
    "```"
   ]
  },
  {
   "attachments": {},
   "cell_type": "markdown",
   "metadata": {},
   "source": [
    "## \n",
    "\n",
    "<h2 style=\"background-color:#aa0000;color:white;padding:10px;text-align:left;font-size:30px;border-bottom:6px solid #ffffff;\">\n",
    "Les boucles\n",
    "</h2>"
   ]
  },
  {
   "attachments": {},
   "cell_type": "markdown",
   "metadata": {},
   "source": [
    "<div style=\"background-color:#999933;padding:10px;color:#ffffff;border-left:10px solid #ffff99;\">\n",
    "<b>⚠️ ATTENTION</b>\n",
    "\n",
    "Les boucles en Python sont très coûteuses en temps de calcul. On verra quelques techniques pour les éviter dans les chapitres suivants.\n",
    "</div>"
   ]
  },
  {
   "attachments": {},
   "cell_type": "markdown",
   "metadata": {},
   "source": [
    "###\n",
    " \n",
    "<h3 style=\"border-bottom:6px solid #ff0000;\">\n",
    "\n",
    "Boucle **`for`** sur une liste\n",
    "\n",
    "</h3>"
   ]
  },
  {
   "attachments": {},
   "cell_type": "markdown",
   "metadata": {},
   "source": [
    "**SYNTAXE**\n",
    "\n",
    "```python\n",
    "for <variable> in <list>:\n",
    "    <instructions utilisant variable>\n",
    "```"
   ]
  },
  {
   "attachments": {},
   "cell_type": "markdown",
   "metadata": {},
   "source": [
    "<div style=\"background-color:#333366;padding:10px;color:#ffffff;border-left:10px solid #9999ff;\">\n",
    "<b>🖥️ EXEMPLE</b>\n",
    "\n",
    "```python\n",
    "for v in [0, 2, 4, 6, 8, 10]:\n",
    "    print(3*v)\n",
    "```\n",
    "\n",
    "</div>"
   ]
  },
  {
   "attachments": {},
   "cell_type": "markdown",
   "metadata": {},
   "source": [
    "<div style=\"background-color:#663333;padding:10px;color:#ffffff;border-left:10px solid #ff9999;\">\n",
    "<b>🧠 EXERCICE</b>\n",
    "\n",
    "1. Exécuter l'exemple ci-dessus.\n",
    "2. Expérimenter."
   ]
  },
  {
   "attachments": {},
   "cell_type": "markdown",
   "metadata": {},
   "source": [
    "###\n",
    " \n",
    "<h3 style=\"border-bottom:6px solid #ff0000;\">\n",
    "\n",
    "Boucle **`for`** sur un dictionnaire\n",
    "\n",
    "</h3>"
   ]
  },
  {
   "attachments": {},
   "cell_type": "markdown",
   "metadata": {},
   "source": [
    "**SYNTAXE**\n",
    "\n",
    "```python\n",
    "for <key> in <dict>:\n",
    "    <instructions utilisant key>\n",
    "```\n",
    "\n",
    "```python\n",
    "for <key>, <value> in <dict>.items():\n",
    "    <instructions utilisant key et value>\n",
    "```"
   ]
  },
  {
   "attachments": {},
   "cell_type": "markdown",
   "metadata": {},
   "source": [
    "<div style=\"background-color:#333366;padding:10px;color:#ffffff;border-left:10px solid #9999ff;\">\n",
    "<b>🖥️ EXEMPLE</b>\n",
    "\n",
    "```python\n",
    "my_dict = {\"key0\":0, \"key1\":2, \"key2\":4, \"key3\":6}\n",
    "\n",
    "# Iterate over the keys\n",
    "for key in my_dict:\n",
    "    print(key + \" = \" + str(my_dict[key]))\n",
    "    \n",
    "# Iterate over the items\n",
    "for item in my_dict.items():\n",
    "    print(item)\n",
    "\n",
    "for key, value in my_dict.items():\n",
    "    print(key + \" = \" + str(value))    \n",
    "```\n",
    "\n",
    "</div>"
   ]
  },
  {
   "attachments": {},
   "cell_type": "markdown",
   "metadata": {},
   "source": [
    "<div style=\"background-color:#663333;padding:10px;color:#ffffff;border-left:10px solid #ff9999;\">\n",
    "<b>🧠 EXERCICE</b>\n",
    "\n",
    "1. Exécuter l'exemple ci-dessus.\n",
    "2. Expérimenter.\n",
    "3. Quelle erreur obtient-on si on oublie d'utiliser la méthode `items()` ?"
   ]
  },
  {
   "attachments": {},
   "cell_type": "markdown",
   "metadata": {},
   "source": [
    "###\n",
    " \n",
    "<h3 style=\"border-bottom:6px solid #ff0000;\">\n",
    "\n",
    "La fonction **[`range(start, stop, step)`](https://docs.python.org/3/library/functions.html#func-range)**\n",
    "\n",
    "</h3>"
   ]
  },
  {
   "cell_type": "markdown",
   "metadata": {},
   "source": [
    "Créé une série qui commence à **`start`**, se termine à **`stop`** **(non-inclus)**, avec un pas de **`step`**.\n",
    "\n",
    "Si **`start`** n'est pas spécifié, alors **`start`** vaut **`0`**.\n",
    "\n",
    "Si **`step`** n'est pas spécifié, alors **`step`** vaut **`1`**."
   ]
  },
  {
   "attachments": {},
   "cell_type": "markdown",
   "metadata": {},
   "source": [
    "<div style=\"background-color:#333366;padding:10px;color:#ffffff;border-left:10px solid #9999ff;\">\n",
    "<b>🖥️ EXEMPLE</b>\n",
    "\n",
    "```python\n",
    "for v in range(1, 102, 10):\n",
    "    print(v*3)\n",
    "```\n",
    "</div>"
   ]
  },
  {
   "attachments": {},
   "cell_type": "markdown",
   "metadata": {},
   "source": [
    "<div style=\"background-color:#663333;padding:10px;color:#ffffff;border-left:10px solid #ff9999;\">\n",
    "<b>🧠 EXERCICE</b>\n",
    "\n",
    "1. Générer (et afficher les valeurs) une range qui commence à 10, termine à 100 (inclus) avec un pas de 10.\n",
    "2. Générer (et afficher les valeurs) une range qui commence à 10, termine à 100 (inclus), avec un pas de 1\n",
    "3. Générer (et afficher les valeurs) une range qui commence à 0, termine à 100, avec un pas de 1\n",
    "\n",
    "**Remarque :** utiliser les valeurs par défaut si possible."
   ]
  },
  {
   "attachments": {},
   "cell_type": "markdown",
   "metadata": {},
   "source": [
    "###\n",
    " \n",
    "<h3 style=\"border-bottom:6px solid #ff0000;\">\n",
    "\n",
    "Boucle **`while`**\n",
    "\n",
    "</h3>"
   ]
  },
  {
   "attachments": {},
   "cell_type": "markdown",
   "metadata": {},
   "source": [
    "**SYNTAXE**\n",
    "\n",
    "```python\n",
    "while <condition>:\n",
    "    <instructions>\n",
    "```"
   ]
  },
  {
   "attachments": {},
   "cell_type": "markdown",
   "metadata": {},
   "source": [
    "<div style=\"background-color:#333366;padding:10px;color:#ffffff;border-left:10px solid #9999ff;\">\n",
    "<b>🖥️ EXEMPLE</b>\n",
    "\n",
    "```python\n",
    "v = 0\n",
    "while v < 100:\n",
    "    v += 1\n",
    "    print(3*v)\n",
    "```\n",
    "\n",
    "</div>"
   ]
  },
  {
   "attachments": {},
   "cell_type": "markdown",
   "metadata": {},
   "source": [
    "<div style=\"background-color:#663333;padding:10px;color:#ffffff;border-left:10px solid #ff9999;\">\n",
    "<b>🧠 EXERCICE</b>\n",
    "\n",
    "1. Exécuter l'exemple ci-dessus.\n",
    "2. Expérimenter."
   ]
  },
  {
   "cell_type": "markdown",
   "metadata": {},
   "source": [
    "## \n",
    "\n",
    "<h2 style=\"background-color:#aa0000;color:white;padding:10px;text-align:left;font-size:30px;border-bottom:6px solid #ffffff;\">\n",
    "Les fonctions\n",
    "</h2>"
   ]
  },
  {
   "attachments": {},
   "cell_type": "markdown",
   "metadata": {},
   "source": [
    "###\n",
    " \n",
    "<h3 style=\"border-bottom:6px solid #ff0000;\">\n",
    "\n",
    "Définitions\n",
    "\n",
    "</h3>"
   ]
  },
  {
   "attachments": {},
   "cell_type": "markdown",
   "metadata": {},
   "source": [
    "Comme en C, les fonctions doivent avoir un nom (un identifiant).\n",
    "\n",
    "Elles peuvent avoir 0, 1, ou plusieurs paramètres.\n",
    "\n",
    "**SYNTAXE**\n",
    "\n",
    "```python\n",
    "def <function_name>(<parameters>):\n",
    "    <instructions>\n",
    "```"
   ]
  },
  {
   "attachments": {},
   "cell_type": "markdown",
   "metadata": {},
   "source": [
    "<div style=\"background-color:#333366;padding:10px;color:#ffffff;border-left:10px solid #9999ff;\">\n",
    "<b>🖥️ EXEMPLE</b>\n",
    "\n",
    "```python\n",
    "def print_sum(a, b):\n",
    "    print(a+b)\n",
    "    \n",
    "print_sum(40, 2)\n",
    "```\n",
    "</div>"
   ]
  },
  {
   "attachments": {},
   "cell_type": "markdown",
   "metadata": {},
   "source": [
    "<div style=\"background-color:#663333;padding:10px;color:#ffffff;border-left:10px solid #ff9999;\">\n",
    "<b>🧠 EXERCICE</b>\n",
    "\n",
    "1. Écrire une fonction qui affiche la soustraction de 2 entiers passés en paramètres.\n",
    "2. Appeler cette fonction."
   ]
  },
  {
   "attachments": {},
   "cell_type": "markdown",
   "metadata": {},
   "source": [
    "###\n",
    " \n",
    "<h3 style=\"border-bottom:6px solid #ff0000;\">\n",
    "\n",
    "Nommer les paramètres lors de l'appel\n",
    "\n",
    "</h3>"
   ]
  },
  {
   "cell_type": "markdown",
   "metadata": {},
   "source": [
    "- Pour plus de lisibilité.\n",
    "- Passer les paramètres dans l'ordre que l'on souhaite."
   ]
  },
  {
   "attachments": {},
   "cell_type": "markdown",
   "metadata": {},
   "source": [
    "<div style=\"background-color:#333366;padding:10px;color:#ffffff;border-left:10px solid #9999ff;\">\n",
    "<b>🖥️ EXEMPLE</b>\n",
    "\n",
    "```python\n",
    "def print_sum(a, b):\n",
    "    print(a+b)\n",
    "    \n",
    "print_sum(b=2, a=40)\n",
    "```\n",
    "\n",
    "</div>"
   ]
  },
  {
   "attachments": {},
   "cell_type": "markdown",
   "metadata": {},
   "source": [
    "<div style=\"background-color:#663333;padding:10px;color:#ffffff;border-left:10px solid #ff9999;\">\n",
    "<b>🧠 EXERCICE</b>\n",
    "\n",
    "1. Appeler la fonction précédente en nommant les paramètres.\n",
    "2. Intervertir les paramètres lors de l'appel."
   ]
  },
  {
   "attachments": {},
   "cell_type": "markdown",
   "metadata": {},
   "source": [
    "###\n",
    " \n",
    "<h3 style=\"border-bottom:6px solid #ff0000;\">\n",
    "\n",
    "Paramètres par défaut\n",
    "\n",
    "</h3>"
   ]
  },
  {
   "cell_type": "markdown",
   "metadata": {},
   "source": [
    "- Donner une valeur initiale à un paramètre.\n",
    "- Rendre des paramètres optionnels."
   ]
  },
  {
   "attachments": {},
   "cell_type": "markdown",
   "metadata": {},
   "source": [
    "<div style=\"background-color:#333366;padding:10px;color:#ffffff;border-left:10px solid #9999ff;\">\n",
    "<b>🖥️ EXEMPLE</b>\n",
    "\n",
    "```python\n",
    "def print_sum(a, b=99):\n",
    "    print(a+b)\n",
    "    \n",
    "print_sum(40)\n",
    "```\n",
    "\n",
    "</div>"
   ]
  },
  {
   "attachments": {},
   "cell_type": "markdown",
   "metadata": {},
   "source": [
    "<div style=\"background-color:#663333;padding:10px;color:#ffffff;border-left:10px solid #ff9999;\">\n",
    "<b>🧠 EXERCICE</b>\n",
    "\n",
    "1. Reprendre une des fonctions précédentes.\n",
    "2. Ajouter une valeur par défaut pour un paramètre **à la fin**.\n",
    "3. Appeler la fonction en omettant ce paramètre.\n",
    "4. Mettre le paramètre par défaut **au début**.\n",
    "5. Que se passe-t-il ? Pourquoi ?\n"
   ]
  },
  {
   "attachments": {},
   "cell_type": "markdown",
   "metadata": {},
   "source": [
    "###\n",
    " \n",
    "<h3 style=\"border-bottom:6px solid #ff0000;\">\n",
    "\n",
    "Paramètre par défaut avec nommage\n",
    "\n",
    "</h3>"
   ]
  },
  {
   "attachments": {},
   "cell_type": "markdown",
   "metadata": {},
   "source": [
    "<div style=\"background-color:#333366;padding:10px;color:#ffffff;border-left:10px solid #9999ff;\">\n",
    "<b>🖥️ EXEMPLE</b>\n",
    "\n",
    "```python\n",
    "def test_default_with_naming(def_a=1, def_b=2, def_c=3):\n",
    "    print(def_a)\n",
    "    print(def_b)\n",
    "    print(def_c)\n",
    "    \n",
    "test_default_with_naming(def_b = 99)\n",
    "```\n",
    "\n",
    "</div>"
   ]
  },
  {
   "attachments": {},
   "cell_type": "markdown",
   "metadata": {},
   "source": [
    "<div style=\"background-color:#663333;padding:10px;color:#ffffff;border-left:10px solid #ff9999;\">\n",
    "<b>🧠 EXERCICE</b>\n",
    "\n",
    "1. Écrire une fonction avec 4 paramètres par défaut.\n",
    "2. L'appeler avec 1 seul paramètre.\n",
    "3. L'appeler avec 3 paramètres.\n"
   ]
  },
  {
   "attachments": {},
   "cell_type": "markdown",
   "metadata": {},
   "source": [
    "###\n",
    " \n",
    "<h3 style=\"border-bottom:6px solid #ff0000;\">\n",
    "\n",
    "Listes d'arguments\n",
    "\n",
    "</h3>"
   ]
  },
  {
   "cell_type": "markdown",
   "metadata": {},
   "source": [
    "- Pour les fonctions avec beaucoup de paramètres.\n",
    "- Stocker les valeurs dans une liste.\n",
    "- Passer la liste en argument précédée de **`*`**."
   ]
  },
  {
   "attachments": {},
   "cell_type": "markdown",
   "metadata": {},
   "source": [
    "<div style=\"background-color:#333366;padding:10px;color:#ffffff;border-left:10px solid #9999ff;\">\n",
    "<b>🖥️ EXEMPLE</b>\n",
    "\n",
    "```python\n",
    "def print_arg_list(a0, a1, a2, a3, a4):\n",
    "    print(a0)\n",
    "    print(a1)\n",
    "    print(a2)\n",
    "    print(a3)\n",
    "    print(a4)\n",
    "\n",
    "arg_list = [0, 1, 2, 3, 4]\n",
    "print_arg_list(*arg_list)\n",
    "```\n",
    "\n",
    "</div>"
   ]
  },
  {
   "attachments": {},
   "cell_type": "markdown",
   "metadata": {},
   "source": [
    "<div style=\"background-color:#663333;padding:10px;color:#ffffff;border-left:10px solid #ff9999;\">\n",
    "<b>🧠 EXERCICE</b>\n",
    "\n",
    "1. Reprendre l'exemple précédent et l'exécuter.\n",
    "2. Expérimenter."
   ]
  },
  {
   "attachments": {},
   "cell_type": "markdown",
   "metadata": {},
   "source": [
    "### \n",
    "\n",
    "<h3 style=\"border-bottom:6px solid #ff0000;\">\n",
    "\n",
    "Dictionnaires d'arguments\n",
    "\n",
    "</h3>"
   ]
  },
  {
   "cell_type": "markdown",
   "metadata": {},
   "source": [
    "- Pour les fonctions avec beaucoup de paramètres.\n",
    "- Stocker les valeurs dans un dictionnaire.\n",
    "- Nommage des arguments => on peut choisir l'ordre.\n",
    "- Passer le dictionnaire en argument précédée de **`**`**."
   ]
  },
  {
   "attachments": {},
   "cell_type": "markdown",
   "metadata": {},
   "source": [
    "<div style=\"background-color:#333366;padding:10px;color:#ffffff;border-left:10px solid #9999ff;\">\n",
    "<b>🖥️ EXEMPLE</b>\n",
    "\n",
    "```python\n",
    "def print_arg_dict(a0, a1, a2, a3, a4):\n",
    "    print(a0)\n",
    "    print(a1)\n",
    "    print(a2)\n",
    "    print(a3)\n",
    "    print(a4)\n",
    "\n",
    "arg_dict = {\"a4\":4, \"a3\":3, \"a2\":2, \"a1\":1, \"a0\":0}\n",
    "print_arg_dict(**arg_dict)\n",
    "```\n",
    "\n",
    "</div>"
   ]
  },
  {
   "attachments": {},
   "cell_type": "markdown",
   "metadata": {},
   "source": [
    "<div style=\"background-color:#663333;padding:10px;color:#ffffff;border-left:10px solid #ff9999;\">\n",
    "<b>🧠 EXERCICE</b>\n",
    "\n",
    "1. Reprendre l'exemple précédent et l'exécuter.\n",
    "2. Expérimenter."
   ]
  },
  {
   "attachments": {},
   "cell_type": "markdown",
   "metadata": {},
   "source": [
    "### \n",
    "\n",
    "<h3 style=\"border-bottom:6px solid #ff0000;\">\n",
    "\n",
    "Retourner des valeurs : **`return`**\n",
    "\n",
    "</h3>"
   ]
  },
  {
   "attachments": {},
   "cell_type": "markdown",
   "metadata": {},
   "source": [
    "<div style=\"background-color:#333366;padding:10px;color:#ffffff;border-left:10px solid #9999ff;\">\n",
    "<b>🖥️ EXEMPLE</b>\n",
    "\n",
    "```python\n",
    "def test_return_single():\n",
    "    return 99\n",
    "\n",
    "print(test_return_single())\n",
    "```\n",
    "\n",
    "</div>"
   ]
  },
  {
   "cell_type": "markdown",
   "metadata": {},
   "source": [
    "Il est possible de retourner plusieurs valeurs à la fois."
   ]
  },
  {
   "attachments": {},
   "cell_type": "markdown",
   "metadata": {},
   "source": [
    "<div style=\"background-color:#333366;padding:10px;color:#ffffff;border-left:10px solid #9999ff;\">\n",
    "<b>🖥️ EXEMPLE</b>\n",
    "\n",
    "```python\n",
    "def test_return_multiple():\n",
    "    return 99, 100, 101, 102, 103\n",
    "\n",
    "print(test_return_multiple())\n",
    "```\n",
    "\n",
    "</div>\n"
   ]
  },
  {
   "attachments": {},
   "cell_type": "markdown",
   "metadata": {},
   "source": [
    "<div style=\"background-color:#663333;padding:10px;color:#ffffff;border-left:10px solid #ff9999;\">\n",
    "<b>🧠 EXERCICE</b>\n",
    "\n",
    "1. Reprendre les exemples précédents et les exécuter.\n",
    "2. Expérimenter avec.\n",
    "3. Quel est le type retourné quand on retourne plusieurs valeurs ?"
   ]
  },
  {
   "attachments": {},
   "cell_type": "markdown",
   "metadata": {},
   "source": [
    "### \n",
    "\n",
    "<h3 style=\"border-bottom:6px solid #ff0000;\">\n",
    "\n",
    "Docstring\n",
    "\n",
    "</h3>"
   ]
  },
  {
   "attachments": {},
   "cell_type": "markdown",
   "metadata": {},
   "source": [
    "- Chaîne de caractères\n",
    "- Apparaît en premier dans la méthode, la fonction, la classe, le module, etc."
   ]
  },
  {
   "attachments": {},
   "cell_type": "markdown",
   "metadata": {},
   "source": [
    "<div style=\"background-color:#333366;padding:10px;color:#ffffff;border-left:10px solid #9999ff;\">\n",
    "<b>🖥️ EXEMPLE</b>\n",
    "\n",
    "```python\n",
    "def test_docstring():\n",
    "    \"\"\"\n",
    "    this is a nice comment about how the function works\n",
    "    \"\"\"\n",
    "    print(\"Wow! Amazing!\")\n",
    "\n",
    "print(\"CALL\")\n",
    "test_docstring()\n",
    "print(\"With help()\")\n",
    "help(test_docstring)\n",
    "print(\"With __doc__\")\n",
    "print(test_docstring.__doc__)\n",
    "print(\"With ?\")\n",
    "test_docstring?\n",
    "```\n",
    "</div>"
   ]
  },
  {
   "attachments": {},
   "cell_type": "markdown",
   "metadata": {},
   "source": [
    "<div style=\"background-color:#663333;padding:10px;color:#ffffff;border-left:10px solid #ff9999;\">\n",
    "<b>🧠 EXERCICE</b>\n",
    "\n",
    "1. Reprendre les exemples précédents et les exécuter.\n",
    "2. Expérimenter avec."
   ]
  },
  {
   "attachments": {},
   "cell_type": "markdown",
   "metadata": {},
   "source": [
    "<div style=\"background-color:#663333;padding:10px;color:#ffffff;border-left:10px solid #ff9999;\">\n",
    "<b>🧠 EXERCICE</b>\n",
    "\n",
    "1. Écrire une fonction qui affiche la documentation des fonctions `abs()`, `bin()` et `hash()`.\n",
    "2. Rajouter un `docstring` à cette fonction et l'afficher.\n",
    "   \n",
    "</div>"
   ]
  },
  {
   "attachments": {},
   "cell_type": "markdown",
   "metadata": {},
   "source": [
    "<div style=\"background-color:#663333;padding:10px;color:#ffffff;border-left:10px solid #ff9999;\">\n",
    "<b>🧠 EXERCICE</b>\n",
    "\n",
    "1. Écrire une fonction qui teste si un entier `i` est égal à un autre entier `j`, à `d` unités près.\n",
    "2. Modifier la fonction pour considérer que `d=0` par défaut.\n",
    "\n",
    "**Exemple :** 99 est égale à 100, à 1 unités près.\n",
    "</div>"
   ]
  },
  {
   "attachments": {},
   "cell_type": "markdown",
   "metadata": {},
   "source": [
    "<div style=\"background-color:#663333;padding:10px;color:#ffffff;border-left:10px solid #ff9999;\">\n",
    "<b>🧠 EXERCICE</b>\n",
    "\n",
    "Écrire une fonction qui affiche si un entier est pair ou impair.   \n",
    "\n",
    "</div>"
   ]
  },
  {
   "attachments": {},
   "cell_type": "markdown",
   "metadata": {},
   "source": [
    "<div style=\"background-color:#663333;padding:10px;color:#ffffff;border-left:10px solid #ff9999;\">\n",
    "<b>🧠 EXERCICE</b>\n",
    "\n",
    "1. Écrire une fonction (avec une boucle `for`) qui teste si un entier est contenu dans une liste.\n",
    "2. Réécrire cette fonction en utilisant l'opérateur **[`in`](https://docs.python.org/3/reference/expressions.html#membership-test-operations)** qui le fait automatiquement.\n",
    "\n",
    "</div>"
   ]
  },
  {
   "attachments": {},
   "cell_type": "markdown",
   "metadata": {},
   "source": [
    "<div style=\"background-color:#663333;padding:10px;color:#ffffff;border-left:10px solid #ff9999;\">\n",
    "<b>🧠 EXERCICE</b>\n",
    "\n",
    "1. Écrire une fonction qui prend une liste d'entiers compris entre 0 et 9 (inclus) en entrée, et qui retourne une liste de taille 10, contenant le nombre d'occurences de chaque chiffre.\n",
    "\n",
    "**Exemple :** \n",
    "\n",
    "entrée : **`[1, 2, 2, 3, 3, 3]`**\n",
    "\n",
    "sortie : **`[0,1,2,3,0,0,0,0,0,0]`**. Il y a 0 fois 0, 1 fois 1, 2 fois 2, 3 fois 3, 0 fois 4, 0 fois 5, etc.\n",
    "\n",
    "</div>"
   ]
  },
  {
   "attachments": {},
   "cell_type": "markdown",
   "metadata": {},
   "source": [
    "<div style=\"background-color:#663333;padding:10px;color:#ffffff;border-left:10px solid #ff9999;\">\n",
    "<b>🧠 EXERCICE</b>\n",
    "\n",
    "1. Écrire une fonction qui prend 2 listes **`words1`** et **`words2`** contenant des mots en entrée, et qui retourne une liste contenant les mots de **`words1`** qui ne sont pas présents dans **`words2`**.\n",
    "\n",
    "</div>"
   ]
  },
  {
   "attachments": {},
   "cell_type": "markdown",
   "metadata": {},
   "source": [
    "<div style=\"background-color:#663333;padding:10px;color:#ffffff;border-left:10px solid #ff9999;\">\n",
    "<b>🧠 EXERCICE</b>\n",
    "\n",
    "1. Écrire une fonction qui calcule la somme des entiers compris entre 2 entiers **`n`** et **`m`** en utilisant une boucle **`while`**.\n",
    "2. Réécrire la fonction précédente en utilisant la formule analytique de la somme des **`n`** premiers entiers.\n",
    "3. Réécrire la fonction précédente en utilisant les fonctions **[`range()`](https://docs.python.org/3/library/functions.html#func-range)** et **[`sum()`](https://docs.python.org/3/library/functions.html#sum)**.\n",
    "\n",
    "</div>"
   ]
  },
  {
   "attachments": {},
   "cell_type": "markdown",
   "metadata": {},
   "source": [
    "<div style=\"background-color:#663333;padding:10px;color:#ffffff;border-left:10px solid #ff9999;\">\n",
    "<b>🧠 EXERCICE</b>\n",
    "\n",
    "1. Écrire une fonction qui vérifie si tous les entiers contenus dans une liste **`list`** sont strictement supérieurs à un entier **`m`** passé en entrée ou non.\n",
    "\n",
    "</div>"
   ]
  },
  {
   "attachments": {},
   "cell_type": "markdown",
   "metadata": {},
   "source": [
    "<div style=\"background-color:#663333;padding:10px;color:#ffffff;border-left:10px solid #ff9999;\">\n",
    "<b>🧠 EXERCICE</b>\n",
    "\n",
    "1. Écrire une fonction qui retourne le plus grand entier dans une liste d'entiers strictement positifs avec une boucle **`for`**.\n",
    "2. Réécrire la fonction précédente en utilisant la fonction **`max(<list>)`**.\n",
    "\n",
    "</div>"
   ]
  },
  {
   "attachments": {},
   "cell_type": "markdown",
   "metadata": {},
   "source": [
    "<div style=\"background-color:#663333;padding:10px;color:#ffffff;border-left:10px solid #ff9999;\">\n",
    "<b>🧠 EXERCICE</b>\n",
    "\n",
    "1. Écrire une fonction qui teste si une variable donnée en entrée est un tuple.\n",
    "2. Écrire une fonction qui teste si une variable donnée en entrée est une liste.\n",
    "3. Écrire une fonction qui teste si une variable donnée en entrée est un dictionnaire.\n",
    "\n",
    "</div>"
   ]
  }
 ],
 "metadata": {
  "kernelspec": {
   "display_name": ".venv",
   "language": "python",
   "name": "python3"
  },
  "language_info": {
   "codemirror_mode": {
    "name": "ipython",
    "version": 3
   },
   "file_extension": ".py",
   "mimetype": "text/x-python",
   "name": "python",
   "nbconvert_exporter": "python",
   "pygments_lexer": "ipython3",
   "version": "3.13.1"
  }
 },
 "nbformat": 4,
 "nbformat_minor": 4
}
