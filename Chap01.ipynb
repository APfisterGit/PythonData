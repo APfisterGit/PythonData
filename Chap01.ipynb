{
 "cells": [
  {
   "attachments": {},
   "cell_type": "markdown",
   "metadata": {},
   "source": [
    "# \n",
    "\n",
    "<h1 style=\"background-color:#aa0000;color:white;padding:10px;text-align:center;font-size:60px;border-bottom:10px solid white;\">\n",
    "CHAPITRE 01<br>\n",
    "<img src=\"https://media.giphy.com/media/KAq5w47R9rmTuvWOWa/giphy.gif\" width=60><br>\n",
    "INTRODUCTION\n",
    "</h1>"
   ]
  },
  {
   "cell_type": "markdown",
   "metadata": {},
   "source": [
    "##\n",
    "\n",
    "<h2 style=\"background-color:#aa0000;color:white;padding:10px;text-align:left;font-size:30px;border-bottom:6px solid #ffffff;\">\n",
    "Pourquoi Python ?\n",
    "</h2>"
   ]
  },
  {
   "cell_type": "markdown",
   "metadata": {},
   "source": [
    "### \n",
    "\n",
    "<h3 style=\"border-bottom:6px solid #ff0000;\">\n",
    "\n",
    "Classements\n",
    "\n",
    "</h3>"
   ]
  },
  {
   "cell_type": "code",
   "execution_count": 1,
   "metadata": {},
   "outputs": [
    {
     "data": {
      "text/html": [
       "<iframe src=\"https://pypl.github.io/PYPL.html\" width=\"1200\" height=\"1000\"></iframe>\n"
      ],
      "text/plain": [
       "<IPython.core.display.HTML object>"
      ]
     },
     "metadata": {},
     "output_type": "display_data"
    }
   ],
   "source": [
    "%%html\n",
    "<iframe src=\"https://pypl.github.io/PYPL.html\" width=\"1200\" height=\"1000\"></iframe>"
   ]
  },
  {
   "cell_type": "code",
   "execution_count": 2,
   "metadata": {},
   "outputs": [
    {
     "data": {
      "text/html": [
       "<iframe src=\"https://www.tiobe.com/tiobe-index/\" width=\"1200\" height=\"1000\"></iframe>\n"
      ],
      "text/plain": [
       "<IPython.core.display.HTML object>"
      ]
     },
     "metadata": {},
     "output_type": "display_data"
    }
   ],
   "source": [
    "\n",
    "%%html\n",
    "<iframe src=\"https://www.tiobe.com/tiobe-index/\" width=\"1200\" height=\"1000\"></iframe>"
   ]
  },
  {
   "cell_type": "markdown",
   "metadata": {},
   "source": [
    "<div style=\"background-color:#999933;padding:10px;color:#ffffff;border-left:10px solid #ffff99;\">\n",
    "<b>⚠️ ATTENTION</b>\n",
    "\n",
    "S'il y a plusieurs versions de Python installées sur votre machine, il est important de spécifier la version de Python à utiliser pour créer l'environnement virtuel.\n",
    "Dans ce cas, il faut utiliser la commande `python3.11 -m venv .venv` pour créer l'environnement virtuel avec Python 3.11.\n",
    "\n",
    "</div>"
   ]
  },
  {
   "cell_type": "markdown",
   "metadata": {},
   "source": [
    "## \n",
    "\n",
    "<h2 style=\"background-color:#aa0000;color:white;padding:10px;text-align:left;font-size:30px;border-bottom:6px solid #ffffff;\">\n",
    "Pourquoi Jupyter ?\n",
    "</h2>"
   ]
  },
  {
   "cell_type": "markdown",
   "metadata": {},
   "source": [
    "### \n",
    "<h3 style=\"border-bottom:6px solid #ff0000;\">\n",
    "\n",
    "Shell Python\n",
    "\n",
    "</h3>"
   ]
  },
  {
   "cell_type": "markdown",
   "metadata": {},
   "source": [
    "#### Lancer un shell Python\n",
    "1. Dans un terminal, exécuter la commande `python`\n",
    "2. Exécuter la commande `print(\"hello world\")`"
   ]
  },
  {
   "cell_type": "markdown",
   "metadata": {},
   "source": [
    "<div style=\"background-color:#663333;padding:10px;color:#ffffff;border-left:10px solid #ff9999;\">\n",
    "<b>🧠 EXERCICE</b>\n",
    "\n",
    "1. Quels sont les avantages de programmer avec cette méthode ?\n",
    "2. Quels sont ses inconvénients ?\n",
    "</div>"
   ]
  },
  {
   "cell_type": "markdown",
   "metadata": {},
   "source": [
    "### \n",
    "<h3 style=\"border-bottom:6px solid #ff0000;\">\n",
    "\n",
    "Script Python\n",
    "\n",
    "</h3>"
   ]
  },
  {
   "cell_type": "markdown",
   "metadata": {},
   "source": [
    "#### Exécuter un script Python\n",
    "1. Écrire un script python\n",
    "2. Dans un terminal, exécuter le script avec la commande `python script.py`"
   ]
  },
  {
   "cell_type": "markdown",
   "metadata": {},
   "source": [
    "<div style=\"background-color:#663333;padding:10px;color:#ffffff;border-left:10px solid #ff9999;\">\n",
    "<b>🧠 EXERCICE</b>\n",
    "\n",
    "1. Quels sont les avantages de programmer avec cette méthode ?\n",
    "2. Quels sont ses inconvénients ?\n",
    "</div>"
   ]
  },
  {
   "cell_type": "markdown",
   "metadata": {},
   "source": [
    "### \n",
    "<h3 style=\"border-bottom:6px solid #ff0000;\">\n",
    "\n",
    "Jupyter : Interactive Python\n",
    "\n",
    "</h3>"
   ]
  },
  {
   "cell_type": "markdown",
   "metadata": {},
   "source": [
    "<div style=\"background-color:#663333;padding:10px;color:#ffffff;border-left:10px solid #ff9999;\">\n",
    "<b>🧠 EXERCICE</b>\n",
    "\n",
    "1. Quels sont les avantages de programmer avec cette méthode ?\n",
    "2. Quels sont ses inconvénients ?\n",
    "</div>"
   ]
  },
  {
   "cell_type": "markdown",
   "metadata": {},
   "source": [
    "<div style=\"background-color:#663333;padding:10px;color:#ffffff;border-left:10px solid #ff9999;\">\n",
    "<b>🧠 EXERCICE</b>\n",
    "\n",
    "1. Rajouter une cellule \"Markdown\" pour rajouter du texte\n",
    "2. Rajouter une cellule de code et utiliser la fonction `print` pour afficher \"Hello Work!\"\n",
    "\n",
    "Quand on est dans une cellule :\n",
    "1. Que fait le raccourci `Ctrl + ENTER` ? -> Executer la cellule\n",
    "2. Que fait le raccourci `Alt + ENTER` ? -> Ajouter une cel du meme type en dessous\n",
    "\n",
    "</div>"
   ]
  },
  {
   "cell_type": "code",
   "execution_count": 4,
   "metadata": {},
   "outputs": [
    {
     "name": "stdout",
     "output_type": "stream",
     "text": [
      "Hello World\n"
     ]
    }
   ],
   "source": [
    "print(\"Hello World\")"
   ]
  },
  {
   "cell_type": "code",
   "execution_count": null,
   "metadata": {},
   "outputs": [],
   "source": []
  }
 ],
 "metadata": {
  "kernelspec": {
   "display_name": ".venv",
   "language": "python",
   "name": "python3"
  },
  "language_info": {
   "codemirror_mode": {
    "name": "ipython",
    "version": 3
   },
   "file_extension": ".py",
   "mimetype": "text/x-python",
   "name": "python",
   "nbconvert_exporter": "python",
   "pygments_lexer": "ipython3",
   "version": "3.13.1"
  }
 },
 "nbformat": 4,
 "nbformat_minor": 4
}
