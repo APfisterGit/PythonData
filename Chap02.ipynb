{
 "cells": [
  {
   "attachments": {},
   "cell_type": "markdown",
   "metadata": {},
   "source": [
    "# \n",
    "\n",
    "<h1 style=\"background-color:#aa0000;color:white;padding:10px;text-align:center;font-size:60px;border-bottom:10px solid white;\">\n",
    "CHAPITRE 02<br>\n",
    "<img src=\"https://media.giphy.com/media/KAq5w47R9rmTuvWOWa/giphy.gif\" width=60><br>\n",
    "LES BASES\n",
    "</h1>"
   ]
  },
  {
   "attachments": {},
   "cell_type": "markdown",
   "metadata": {},
   "source": [
    "## \n",
    "\n",
    "<h2 style=\"background-color:#aa0000;color:white;padding:10px;text-align:left;font-size:30px;border-bottom:6px solid #ffffff;\">\n",
    "Qu'est-ce que Python ?\n",
    "</h2>"
   ]
  },
  {
   "attachments": {},
   "cell_type": "markdown",
   "metadata": {},
   "source": [
    "### \n",
    "<h3 style=\"border-bottom:6px solid #ff0000;\">\n",
    "\n",
    "1 - Langage interprété\n",
    "\n",
    "</h3>"
   ]
  },
  {
   "attachments": {},
   "cell_type": "markdown",
   "metadata": {},
   "source": [
    "<div style=\"background-color:#663333;padding:10px;color:#ffffff;border-left:10px solid #ff9999;\">\n",
    "<b>🧠 QUESTIONS</b>\n",
    "\n",
    "1. Qu'est-ce que ça veut dire ?\n",
    "2. Par opposition à quels langages ?\n",
    "3. Quels sont les avantages ?\n",
    "4. Quels sont les inconvénients ?\n",
    "</div>"
   ]
  },
  {
   "attachments": {},
   "cell_type": "markdown",
   "metadata": {},
   "source": [
    "### \n",
    "<h3 style=\"border-bottom:6px solid #ff0000;\">\n",
    "\n",
    "2 - Langage de haut-niveau\n",
    "\n",
    "</h3>"
   ]
  },
  {
   "attachments": {},
   "cell_type": "markdown",
   "metadata": {},
   "source": [
    "<div style=\"background-color:#663333;padding:10px;color:#ffffff;border-left:10px solid #ff9999;\">\n",
    "<b>🧠 QUESTIONS</b>\n",
    "\n",
    "1. Qu'est-ce que ça veut dire ?\n",
    "2. Par opposition à quels langages ?\n",
    "3. Quels sont les avantages ?\n",
    "4. Quels sont les inconvénients ?\n",
    "</div>"
   ]
  },
  {
   "attachments": {},
   "cell_type": "markdown",
   "metadata": {},
   "source": [
    "### \n",
    "<h3 style=\"border-bottom:6px solid #ff0000;\">\n",
    "\n",
    "3 - Langage orienté object\n",
    "\n",
    "</h3>"
   ]
  },
  {
   "attachments": {},
   "cell_type": "markdown",
   "metadata": {},
   "source": [
    " Voir le cours de C++"
   ]
  },
  {
   "attachments": {},
   "cell_type": "markdown",
   "metadata": {},
   "source": [
    "##\n",
    "\n",
    "<h2 style=\"background-color:#aa0000;color:white;padding:10px;text-align:left;font-size:30px;border-bottom:6px solid #ffffff;\">\n",
    "Trouver de l'aide\n",
    "</h2>"
   ]
  },
  {
   "attachments": {},
   "cell_type": "markdown",
   "metadata": {},
   "source": [
    "Rajouter `?` après le nom de la fonction"
   ]
  },
  {
   "attachments": {},
   "cell_type": "markdown",
   "metadata": {},
   "source": [
    "<div style=\"background-color:#663333;padding:10px;color:#ffffff;border-left:10px solid #ff9999;\">\n",
    "<b>🧠 EXERCICE</b>\n",
    "\n",
    "1. Afficher l'aide pour la fonction [`print`](https://docs.python.org/3/library/functions.html#print)\n",
    "\n",
    "    **NOTE :** ça peut prendre un peu de temps.\n",
    "</div>"
   ]
  },
  {
   "attachments": {},
   "cell_type": "markdown",
   "metadata": {},
   "source": [
    "##\n",
    "\n",
    "<h2 style=\"background-color:#aa0000;color:white;padding:10px;text-align:left;font-size:30px;border-bottom:6px solid #ffffff;\">\n",
    "Utiliser les entrées / sorties intermédiaires\n",
    "</h2>"
   ]
  },
  {
   "attachments": {},
   "cell_type": "markdown",
   "metadata": {},
   "source": [
    "`_` &rarr; la dernière sortie\n",
    "\n",
    "`_4` &rarr; la sortie numéro 4\n",
    "\n",
    "`_i` &rarr; la dernière entrée\n",
    "\n",
    "`_i4` &rarr; l'entrée numéro 4"
   ]
  },
  {
   "attachments": {},
   "cell_type": "markdown",
   "metadata": {},
   "source": [
    "<div style=\"background-color:#663333;padding:10px;color:#ffffff;border-left:10px solid #ff9999;\">\n",
    "<b>🧠 EXERCICE</b>\n",
    "\n",
    "1. Exécuter `10+1*2` dans une cellule.\n",
    "2. **Dans une autre cellule**, récupérer sa sortie et la multiplier par `4`.\n",
    "3. **Dans une autre cellule**, Récupérer la sortie précédente et soustraire `6`.\n",
    "4. **Dans une autre cellule**, Utiliser l'entrée au point 1, la multiplier par `4` et soustraire 6, sans résultat intermédiaire. **Quelle erreur obtient-on ?**\n",
    "5. **Dans une autre cellule**, Refaire la même chose mais en multipliant par `4` uniquement. **Quel résultat obtient-on ? Pourquoi ?**\n",
    "\n",
    "</div>"
   ]
  },
  {
   "attachments": {},
   "cell_type": "markdown",
   "metadata": {},
   "source": [
    "##\n",
    "\n",
    "<h2 style=\"background-color:#aa0000;color:white;padding:10px;text-align:left;font-size:30px;border-bottom:6px solid #ffffff;\">\n",
    "Vérifier le type d'un objet\n",
    "</h2>"
   ]
  },
  {
   "attachments": {},
   "cell_type": "markdown",
   "metadata": {},
   "source": [
    "La fonction [`type()`](https://docs.python.org/3/library/functions.html#type)"
   ]
  },
  {
   "attachments": {},
   "cell_type": "markdown",
   "metadata": {},
   "source": [
    "<div style=\"background-color:#663333;padding:10px;color:#ffffff;border-left:10px solid #ff9999;\">\n",
    "<b>🧠 EXERCICE</b>\n",
    "\n",
    "1. Utiliser la fonction [`type()`](https://docs.python.org/3/library/functions.html#type) pour vérifier le type des entrées et des sorties.\n",
    "2. Quel est le type des entrées et des sorties ?\n",
    "\n",
    "</div>"
   ]
  },
  {
   "attachments": {},
   "cell_type": "markdown",
   "metadata": {},
   "source": [
    "##\n",
    "\n",
    "<h2 style=\"background-color:#aa0000;color:white;padding:10px;text-align:left;font-size:30px;border-bottom:6px solid #ffffff;\">\n",
    "Variables et types\n",
    "</h2>"
   ]
  },
  {
   "attachments": {},
   "cell_type": "markdown",
   "metadata": {},
   "source": [
    "Déclaration avec un identifiant uniquement (par opposition au C par exemple)\n",
    "\n",
    "Affectation avec l'opérateur `=`\n",
    "\n",
    "Le type est déduit directement par Python"
   ]
  },
  {
   "attachments": {},
   "cell_type": "markdown",
   "metadata": {},
   "source": [
    "<div style=\"background-color:#663333;padding:10px;color:#ffffff;border-left:10px solid #ff9999;\">\n",
    "<b>🧠 EXERCICE</b>\n",
    "\n",
    "1. Créer une variable `i` et lui affecter la valeur `99`\n",
    "2. Créer une variable `f` et lui affecter la valeur `99.99`\n",
    "3. Créer une variable `b` et lui affecter la valeur `True`\n",
    "4. Créer une variable `t` et lui affecter la valeur `\"Hello work!\"`\n",
    "5. Afficher le type pour chacune des variables créées en utilisant les fonction [`print`](https://docs.python.org/3/library/functions.html#print) et [`type()`](https://docs.python.org/3/library/functions.html#type)\n",
    "6. Réaffecter les variables avec des valeurs de types différents. **Que se passe-t-il ? Pourquoi ?**\n",
    "\n",
    "</div>"
   ]
  },
  {
   "attachments": {},
   "cell_type": "markdown",
   "metadata": {},
   "source": [
    "### \n",
    "\n",
    "<h3 style=\"border-bottom:6px solid #ff0000;\">\n",
    "\n",
    "Python est un langage tout objet (par opposition au C)\n",
    "\n",
    "</h3>"
   ]
  },
  {
   "attachments": {},
   "cell_type": "markdown",
   "metadata": {},
   "source": [
    "&rarr; ceci offre une très grande souplesse\n"
   ]
  },
  {
   "attachments": {},
   "cell_type": "markdown",
   "metadata": {},
   "source": [
    "<div style=\"background-color:#663333;padding:10px;color:#ffffff;border-left:10px solid #ff9999;\">\n",
    "<b>🧠 EXERCICE</b>\n",
    "\n",
    "1. Appliquer la fonction [`upper()`](https://docs.python.org/3/library/stdtypes.html#str.upper) à la chaîne de caractère `\"Hello\"`, sans passer par une variable. **Que se passe-t-il ? Pourquoi ?**\n",
    "2. Idem avec la fonction [`lower()`](https://docs.python.org/3/library/stdtypes.html#str.lower).  **Que se passe-t-il ? Pourquoi ?**\n",
    "3. Noter la différence avec le C.\n",
    "\n",
    "</div>"
   ]
  },
  {
   "attachments": {},
   "cell_type": "markdown",
   "metadata": {},
   "source": [
    "##\n",
    "\n",
    "<h2 style=\"background-color:#aa0000;color:white;padding:10px;text-align:left;font-size:30px;border-bottom:6px solid #ffffff;\">\n",
    "Les commentaires\n",
    "</h2>"
   ]
  },
  {
   "attachments": {},
   "cell_type": "markdown",
   "metadata": {},
   "source": [
    "Les lignes de commentaire commencent par le caractère `#`.\n",
    "\n",
    "On peut aussi utiliser les triple guillemets `\"\"\"` ou `'''` pour faire des commentaires sur plusieurs lignes."
   ]
  },
  {
   "attachments": {},
   "cell_type": "markdown",
   "metadata": {},
   "source": [
    "<div style=\"background-color:#333366;padding:10px;color:#ffffff;border-left:10px solid #9999ff;\">\n",
    "<b>🖥️ EXEMPLE</b>\n",
    "\n",
    "```python\n",
    "# Ceci est un commentaire sur une seule ligne.\n",
    "\n",
    "'''\n",
    "Ceci est un commentaire\n",
    "sur plusieurs lignes.\n",
    "'''\n",
    "\n",
    "```\n",
    "</div>"
   ]
  },
  {
   "attachments": {},
   "cell_type": "markdown",
   "metadata": {},
   "source": [
    "##\n",
    "\n",
    "<h2 style=\"background-color:#aa0000;color:white;padding:10px;text-align:left;font-size:30px;border-bottom:6px solid #ffffff;\">\n",
    "Les opérateurs\n",
    "</h2>"
   ]
  },
  {
   "attachments": {},
   "cell_type": "markdown",
   "metadata": {},
   "source": [
    "[Logiques / booléens](https://docs.python.org/3.11/library/stdtypes.html#boolean-operations-and-or-not) : `not`, `and`, `or`"
   ]
  },
  {
   "attachments": {},
   "cell_type": "markdown",
   "metadata": {},
   "source": [
    "[Comparaison](https://docs.python.org/3.11/library/stdtypes.html#comparisons) : `==`, `!=`, `>`, `<`, `>=` et `<=`"
   ]
  },
  {
   "attachments": {},
   "cell_type": "markdown",
   "metadata": {},
   "source": [
    "[Arithmétiques](https://docs.python.org/3.11/library/stdtypes.html#numeric-types-int-float-complex) : `+`, `-`, `*`, `/`, `//`, `**`, `%` et la fonction `pow()`"
   ]
  },
  {
   "attachments": {},
   "cell_type": "markdown",
   "metadata": {},
   "source": [
    "<div style=\"background-color:#663333;padding:10px;color:#ffffff;border-left:10px solid #ff9999;\">\n",
    "<b>🧠 EXERCICE</b>\n",
    "\n",
    "1. Expérimentez avec tous ces opérateurs.\n",
    "2. Que fait `2 ** 3` ?\n",
    "3. Que fait `pow(2, 3)` ?\n",
    "4. Que retourne `29 / 5` ?\n",
    "5. Que retourne `29 // 5` ?\n",
    "\n",
    "</div>"
   ]
  }
 ],
 "metadata": {
  "kernelspec": {
   "display_name": "Python 3.8.10 64-bit",
   "language": "python",
   "name": "python3"
  },
  "language_info": {
   "codemirror_mode": {
    "name": "ipython",
    "version": 3
   },
   "file_extension": ".py",
   "mimetype": "text/x-python",
   "name": "python",
   "nbconvert_exporter": "python",
   "pygments_lexer": "ipython3",
   "version": "3.11.8"
  },
  "vscode": {
   "interpreter": {
    "hash": "881d1c0c7b3cb97b11d4b9e235bcfcaca74fdb6a3cbc0c1ab7860622c8898ed4"
   }
  }
 },
 "nbformat": 4,
 "nbformat_minor": 4
}
