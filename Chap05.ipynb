{
 "cells": [
  {
   "cell_type": "markdown",
   "metadata": {},
   "source": [
    "# \n",
    "\n",
    "<h1 style=\"background-color:#aa0000;color:white;padding:10px;text-align:center;font-size:60px;border-bottom:10px solid white;\">\n",
    "CHAPITRE 5<br>\n",
    "<img src=\"https://media.giphy.com/media/KAq5w47R9rmTuvWOWa/giphy.gif\" width=60><br>\n",
    "FONCTIONS (SUITE), PACKAGES, MODULES et F-STRINGS<br>\n",
    "</h1>"
   ]
  },
  {
   "cell_type": "markdown",
   "metadata": {},
   "source": [
    "## \n",
    "\n",
    "<h2 style=\"background-color:#aa0000;color:white;padding:10px;text-align:left;font-size:30px;border-bottom:6px solid #ffffff;\">\n",
    "Arguments variables (en type et en nombre)\n",
    "</h2>"
   ]
  },
  {
   "attachments": {},
   "cell_type": "markdown",
   "metadata": {},
   "source": [
    "###\n",
    " \n",
    "<h3 style=\"border-bottom:6px solid #ff0000;\">\n",
    "\n",
    "Ajouter les paramètres **`*args`**\n",
    "\n",
    "</h3>"
   ]
  },
  {
   "cell_type": "markdown",
   "metadata": {},
   "source": [
    "<div style=\"background-color:#333366;padding:10px;color:#ffffff;border-left:10px solid #9999ff;\">\n",
    "<b>🖥️ EXEMPLE</b>\n",
    "\n",
    "```python\n",
    "def function_var_params(arg1, arg2, *args):\n",
    "    print(arg1)\n",
    "    print(arg2)\n",
    "    if args:\n",
    "        print(args)\n",
    "\n",
    "function_var_params(99, \"b\", 99, \"99\", 99.99)\n",
    "```\n",
    "</div>"
   ]
  },
  {
   "cell_type": "markdown",
   "metadata": {},
   "source": [
    "<div style=\"background-color:#336633;padding:10px;color:#ffffff;border-left:10px solid #99ff99;\">\n",
    "<b>👀 INFORMATIONS</b>\n",
    "\n",
    "on voit que ça ressemble beaucoup au passage de paramètres sous forme de liste à une fonction avec ici le **`*`** passé dans la définition de la fonction.\n",
    "</div>"
   ]
  },
  {
   "cell_type": "markdown",
   "metadata": {},
   "source": [
    "<div style=\"background-color:#663333;padding:10px;color:#ffffff;border-left:10px solid #ff9999;\">\n",
    "<b>🧠 EXERCICE</b>\n",
    "\n",
    "1. Exécuter l'exemple donné précédemment.\n",
    "2. Quel est le type de **`args`** ?\n",
    "3. Utiliser un autre nom que **`args`**. Que se passe-t-il ?\n",
    "4. Modifier l'ordre des paramètres dans la définition de la fonction. Que se passe-t-il ? Comment modifier l'appel pour résoudre l'erreur ?\n",
    "\n",
    "</div>"
   ]
  },
  {
   "attachments": {},
   "cell_type": "markdown",
   "metadata": {},
   "source": [
    "###\n",
    " \n",
    "<h3 style=\"border-bottom:6px solid #ff0000;\">\n",
    "\n",
    "Ajouter les paramètres nommés **`**kwargs`**\n",
    "\n",
    "</h3>"
   ]
  },
  {
   "cell_type": "markdown",
   "metadata": {},
   "source": [
    "<div style=\"background-color:#333366;padding:10px;color:#ffffff;border-left:10px solid #9999ff;\">\n",
    "<b>🖥️ EXEMPLE</b>\n",
    "\n",
    "```python\n",
    "def function_var_params(arg1, arg2, **kwargs):\n",
    "    print(arg1)\n",
    "    print(arg2)\n",
    "    \n",
    "    if kwargs:\n",
    "        print(kwargs)\n",
    "\n",
    "function_var_params(42, \"b\", test42=42, test43=\"43\", test44=True)\n",
    "```\n",
    "\n",
    "</div>"
   ]
  },
  {
   "cell_type": "markdown",
   "metadata": {},
   "source": [
    "<div style=\"background-color:#336633;padding:10px;color:#ffffff;border-left:10px solid #99ff99;\">\n",
    "<b>👀 INFORMATIONS</b>\n",
    "\n",
    "On voit que ça ressemble beaucoup au passage de paramètres sous forme de dictionnaire à une fonction avec ici le **`**`** passé dans la définition de la fonction.\n",
    "\n",
    "</div>"
   ]
  },
  {
   "cell_type": "markdown",
   "metadata": {},
   "source": [
    "<div style=\"background-color:#663333;padding:10px;color:#ffffff;border-left:10px solid #ff9999;\">\n",
    "<b>🧠 EXERCICE</b>\n",
    "\n",
    "1. Exécuter l'exemple donné précédemment.\n",
    "2. Quel est le type de **`kwargs`** ?\n",
    "3. Utiliser un autre nom pour **`kwargs`**. Que se passe-t-il ?\n",
    "4. Modifier l'ordre des paramètres dans la définition de la fonction. Que se passe-t-il ? Comment modifier l'appel pour résoudre l'erreur ?\n",
    "\n",
    "</div>"
   ]
  },
  {
   "cell_type": "markdown",
   "metadata": {},
   "source": [
    "<div style=\"background-color:#663333;padding:10px;color:#ffffff;border-left:10px solid #ff9999;\">\n",
    "<b>🧠 EXERCICE</b>\n",
    "\n",
    "1. Écrire une fonction **`mult`** qui multiplie les 2 entiers passés en paramètre et retourne le résultat.\n",
    "2. Écrire une fonction **`mult_2`** qui additionne les 2 entiers passés en paramètre, multiplie le tout par 2, et retourne le résultat.\n",
    "3. Créer 1 dictionnaire contenant des paramètres (nommés) pour **`mult`** et **`mult_2`** et le passer en paramètre à ces fonctions avec l'opérateur **`**`**.\n",
    "4. Créer un 2ème dictionnaire similaire mais avec des valeurs différentes. Le passer à **`mult`** et **`mult_2`** avec l'opérateur **`**`**.\n",
    "5. Stocker les 2 dictionnaires dans un dictionnaire. Utiliser ce dictionnaire pour appeler les fonctions **`mult`** et **`mult_2`** avec l'opérateur **`**`**.\n",
    "\n",
    "</div>"
   ]
  },
  {
   "attachments": {},
   "cell_type": "markdown",
   "metadata": {},
   "source": [
    "<div style=\"background-color:#663333;padding:10px;color:#ffffff;border-left:10px solid #ff9999;\">\n",
    "<b>🧠 EXERCICE</b>\n",
    "\n",
    "1. Quel ordre faut-il respecter quand on veut utiliser `*args`, `**kwargs`, ainsi que des paramètres par défaut ?\n",
    "\n",
    "</div>"
   ]
  },
  {
   "cell_type": "markdown",
   "metadata": {},
   "source": [
    "## \n",
    "\n",
    "<h2 style=\"background-color:#aa0000;color:white;padding:10px;text-align:left;font-size:30px;border-bottom:6px solid #ffffff;\">\n",
    "Retour de plusieurs résultats\n",
    "</h2>"
   ]
  },
  {
   "attachments": {},
   "cell_type": "markdown",
   "metadata": {},
   "source": [
    "###\n",
    " \n",
    "<h3 style=\"border-bottom:6px solid #ff0000;\">\n",
    "\n",
    "Utiliser **`return`** avec plusieurs résultats, séparés par des **`,`**\n",
    "\n",
    "</h3>"
   ]
  },
  {
   "cell_type": "markdown",
   "metadata": {},
   "source": [
    "#### Stocker le résultat dans un seul objet\n",
    "\n",
    "<div style=\"background-color:#333366;padding:10px;color:#ffffff;border-left:10px solid #9999ff;\">\n",
    "<b>🖥️ EXEMPLE</b>\n",
    "\n",
    "```python\n",
    "def function_mult_return(a, b):\n",
    "    return 2*b, 3*a\n",
    "\n",
    "res = function_mult_return(14, 21)\n",
    "```\n",
    "\n",
    "</div>"
   ]
  },
  {
   "cell_type": "markdown",
   "metadata": {},
   "source": [
    "#### Stocker le résultat dans plusieurs objets\n",
    "\n",
    "<div style=\"background-color:#333366;padding:10px;color:#ffffff;border-left:10px solid #9999ff;\">\n",
    "<b>🖥️ EXEMPLE</b>\n",
    "\n",
    "```python\n",
    "def function_mult_return(a, b):\n",
    "    return 2*b, 3*a\n",
    "\n",
    "a, b = function_mult_return(14, 21)\n",
    "```\n",
    "\n",
    "</div>\n"
   ]
  },
  {
   "cell_type": "markdown",
   "metadata": {},
   "source": [
    "<div style=\"background-color:#663333;padding:10px;color:#ffffff;border-left:10px solid #ff9999;\">\n",
    "<b>🧠 EXERCICE</b>\n",
    "\n",
    "1. Exécuter l'exemple donné précédemment.\n",
    "2. Le modifier et expérimenter.\n",
    "\n",
    "</div>"
   ]
  },
  {
   "attachments": {},
   "cell_type": "markdown",
   "metadata": {},
   "source": [
    "<div style=\"background-color:#336633;padding:10px;color:#ffffff;border-left:10px solid #99ff99;\">\n",
    "<b>👀 INFORMATIONS</b>\n",
    "\n",
    "Il faut noter que d'une manière générale, on peut assigner plusieurs valeurs à des variables de la manière suivante :\n",
    "\n",
    "```python\n",
    "a, b, c = 1, 2, 3\n",
    "```\n",
    "</div>"
   ]
  },
  {
   "cell_type": "markdown",
   "metadata": {},
   "source": [
    "## \n",
    "\n",
    "<h2 style=\"background-color:#aa0000;color:white;padding:10px;text-align:left;font-size:30px;border-bottom:6px solid #ffffff;\">\n",
    "Les modules et les packages\n",
    "</h2>"
   ]
  },
  {
   "cell_type": "markdown",
   "metadata": {},
   "source": [
    "- Un module est un fichier Python contenant des fonctions que l'on peut réutiliser.\n",
    "- Un package est un ensemble organisé (répertoire) de modules (fichiers)."
   ]
  },
  {
   "attachments": {},
   "cell_type": "markdown",
   "metadata": {},
   "source": [
    "###\n",
    " \n",
    "<h3 style=\"border-bottom:6px solid #ff0000;\">\n",
    "\n",
    "Utiliser un package : la commande **`import`**\n",
    "\n",
    "</h3>"
   ]
  },
  {
   "cell_type": "markdown",
   "metadata": {},
   "source": [
    "<div style=\"background-color:#333366;padding:10px;color:#ffffff;border-left:10px solid #9999ff;\">\n",
    "<b>🖥️ EXEMPLE</b>\n",
    "\n",
    "```python\n",
    "import datetime\n",
    "\n",
    "print(datetime.date.today())\n",
    "```\n",
    "</div>"
   ]
  },
  {
   "cell_type": "markdown",
   "metadata": {},
   "source": [
    "<div style=\"background-color:#663333;padding:10px;color:#ffffff;border-left:10px solid #ff9999;\">\n",
    "<b>🧠 EXERCICE</b>\n",
    "\n",
    "1. Exécuter l'exemple donné précédemment.\n",
    "2. Importer le package **`platform`**.\n",
    "3. Exécuter l'instruction **`print(platform.processor())`** pour afficher des informations concernant le processeur.\n",
    "4. Importer le package **`numpy`**. Que se passe-t-il ?\n",
    "5. Importer le package **`pandas`**. Que se passe-t-il ?\n",
    "\n",
    "</div>"
   ]
  },
  {
   "attachments": {},
   "cell_type": "markdown",
   "metadata": {},
   "source": [
    "###\n",
    " \n",
    "<h3 style=\"border-bottom:6px solid #ff0000;\">\n",
    "\n",
    "Installer un package\n",
    "\n",
    "</h3>"
   ]
  },
  {
   "cell_type": "markdown",
   "metadata": {},
   "source": [
    "Dans le Terminal, on peut utiliser la commande **`pip`** pour installer un package."
   ]
  },
  {
   "cell_type": "markdown",
   "metadata": {},
   "source": [
    "<div style=\"background-color:#333366;padding:10px;color:#ffffff;border-left:10px solid #9999ff;\">\n",
    "<b>🖥️ EXEMPLE</b>\n",
    "\n",
    "```bash\n",
    "python -m pip install numpy\n",
    "```\n",
    "</div>"
   ]
  },
  {
   "cell_type": "markdown",
   "metadata": {},
   "source": [
    "<div style=\"background-color:#999933;padding:10px;color:#ffffff;border-left:10px solid #ffff99;\">\n",
    "<b>⚠️ ATTENTION</b>\n",
    "\n",
    "Il faut avant tout vérifier que nous sommes bien dans l'environnement virtuel que nous voulons utiliser.\n",
    "Pour ce faire, on peut utiliser la commande **`pip -V`** pour vérifier la version de **`pip`** et **`python`** utilisée.\n",
    "</div>"
   ]
  },
  {
   "cell_type": "markdown",
   "metadata": {},
   "source": [
    "<div style=\"background-color:#663333;padding:10px;color:#ffffff;border-left:10px solid #ff9999;\">\n",
    "<b>🧠 EXERCICE</b>\n",
    "\n",
    "1. Installer le package **`numpy`**.\n",
    "2. Installer le package **`pandas`**.\n",
    "3. Importer le package **`numpy`**. Que se passe-t-il ?\n",
    "4. Importer le package **`pandas`**. Que se passe-t-il ?\n",
    "\n",
    "</div>"
   ]
  },
  {
   "attachments": {},
   "cell_type": "markdown",
   "metadata": {},
   "source": [
    "###\n",
    " \n",
    "<h3 style=\"border-bottom:6px solid #ff0000;\">\n",
    "\n",
    "Raccourcir le nom du package : **`as`**\n",
    "\n",
    "</h3>\n"
   ]
  },
  {
   "cell_type": "markdown",
   "metadata": {},
   "source": [
    "<div style=\"background-color:#333366;padding:10px;color:#ffffff;border-left:10px solid #9999ff;\">\n",
    "<b>🖥️ EXEMPLE</b>\n",
    "\n",
    "```python\n",
    "import numpy as np\n",
    "print(np.random.random(10))\n",
    "```\n",
    "\n",
    "</div>"
   ]
  },
  {
   "attachments": {},
   "cell_type": "markdown",
   "metadata": {},
   "source": [
    "###\n",
    " \n",
    "<h3 style=\"border-bottom:6px solid #ff0000;\">\n",
    "\n",
    "Importer sans le préfixe\n",
    "\n",
    "</h3>\n"
   ]
  },
  {
   "cell_type": "markdown",
   "metadata": {},
   "source": [
    "<div style=\"background-color:#333366;padding:10px;color:#ffffff;border-left:10px solid #9999ff;\">\n",
    "<b>🖥️ EXEMPLE</b>\n",
    "\n",
    "```python\n",
    "from numpy import random as rd\n",
    "print(rd.random(10))\n",
    "```\n",
    "\n",
    "</div>"
   ]
  },
  {
   "cell_type": "markdown",
   "metadata": {},
   "source": [
    "<div style=\"background-color:#999933;padding:10px;color:#ffffff;border-left:10px solid #ffff99;\">\n",
    "<b>⚠️ ATTENTION</b>\n",
    "\n",
    "Cette dernière approche est à éviter car elle cache le nom du package.\n",
    "</div>"
   ]
  },
  {
   "cell_type": "markdown",
   "metadata": {},
   "source": [
    "<div style=\"background-color:#663333;padding:10px;color:#ffffff;border-left:10px solid #ff9999;\">\n",
    "<b>🧠 EXERCICE</b>\n",
    "\n",
    "En utilisant le module **[`sys`](https://docs.python.org/3/library/sys.html)** :\n",
    "1. Écrire une fonction qui retourne la version courante de l'interpréteur Python.\n",
    "2. Écrire une fonction qui retourne la taille d'un objet en bytes.\n",
    "\n",
    "</div>"
   ]
  },
  {
   "cell_type": "markdown",
   "metadata": {},
   "source": [
    "<div style=\"background-color:#663333;padding:10px;color:#ffffff;border-left:10px solid #ff9999;\">\n",
    "<b>🧠 EXERCICE</b>\n",
    "\n",
    "En utilisant le module **[`datetime`](https://docs.python.org/3/library/datetime.html#module-datetime)** :\n",
    "1. Écrire une fonction qui affiche l'heure et la date courante.\n",
    "2. Écrire une fonction qui calcule le nombre de jours entre 2 dates.\n",
    "   \n",
    "</div>"
   ]
  },
  {
   "cell_type": "markdown",
   "metadata": {},
   "source": [
    "<div style=\"background-color:#663333;padding:10px;color:#ffffff;border-left:10px solid #ff9999;\">\n",
    "<b>🧠 EXERCICE</b>\n",
    "\n",
    "En utilisant le module **[`calendar`](https://docs.python.org/3/library/calendar.html)** :\n",
    "1. Écrire une fonction qui imprime les jours d'un mois, sous forme de calendrier.   \n",
    "\n",
    "</div>"
   ]
  },
  {
   "cell_type": "markdown",
   "metadata": {},
   "source": [
    "<div style=\"background-color:#663333;padding:10px;color:#ffffff;border-left:10px solid #ff9999;\">\n",
    "<b>🧠 EXERCICE</b>\n",
    "\n",
    "En utilisant le module **[`os`](https://docs.python.org/3/library/os.html)** :\n",
    "1. Écrire une fonction qui vérifie si un fichier existe ou pas.\n",
    "2. Écrire une fonction qui affiche les variables d'environnement.\n",
    "   \n",
    "</div>"
   ]
  },
  {
   "cell_type": "markdown",
   "metadata": {},
   "source": [
    "<div style=\"background-color:#663333;padding:10px;color:#ffffff;border-left:10px solid #ff9999;\">\n",
    "<b>🧠 EXERCICE</b>\n",
    "\n",
    "En utilisant le module **[`time`](https://docs.python.org/3/library/time.html)** :\n",
    "1. Écrire une fonction qui calcule la somme de tous les entiers entre 1 et 100000 en utilisant une boucle **`for`**.\n",
    "2. En utilisant la fonction **`time()`** du module **`time`**, afficher le temps nécessaire pour exécuter la boucle.\n",
    "3. Écrire la même fonction mais en utilisant cette fois-ci la fonction **`sum`**.\n",
    "4. De même, afficher le temps nécessaire pour effectuer le calcul.\n",
    "5. Écrire une fonction qui retourne le temps système. \n",
    "  \n",
    "</div>"
   ]
  },
  {
   "cell_type": "markdown",
   "metadata": {},
   "source": [
    "<div style=\"background-color:#663333;padding:10px;color:#ffffff;border-left:10px solid #ff9999;\">\n",
    "<b>🧠 EXERCICE</b>\n",
    "\n",
    "En utilisant le module **[`http.client`](https://docs.python.org/3/library/http.client.html)** :\n",
    "\n",
    "1. Écrire une fonction qui accède à une page HTTP et affiche son contenu.\n",
    "\n",
    "**NOTE :** utiliser la méthode **`read()`** du module **`http.client`** pour lire le contenu d'une URL.\n",
    "\n",
    "**NOTE :** utiliser la méthode **`decode()`** pour convertir des bytes (retournés par la méthode **`read()`** en string facilement affichable.\n",
    "  \n",
    "</div>"
   ]
  },
  {
   "attachments": {},
   "cell_type": "markdown",
   "metadata": {},
   "source": [
    "## \n",
    "\n",
    "<h2 style=\"background-color:#aa0000;color:white;padding:10px;text-align:left;font-size:30px;border-bottom:6px solid #ffffff;\">\n",
    "Formatage de chaînes de caractères : les f-strings\n",
    "</h2>\n",
    "\n",
    "📘 [2.4.3. Formatted string literals](https://docs.python.org/3/reference/lexical_analysis.html#formatted-string-literals)\n",
    "\n",
    "- Les `String`s sont une séquence de caractères.\n",
    "- Les `String`s sont immuables : pour les modifier, il faut dont en créer une nouvelle."
   ]
  },
  {
   "attachments": {},
   "cell_type": "markdown",
   "metadata": {},
   "source": [
    "###\n",
    " \n",
    "<h3 style=\"border-bottom:6px solid #ff0000;\">\n",
    "\n",
    "Créer une **`f-string`**\n",
    "\n",
    "</h3>"
   ]
  },
  {
   "attachments": {},
   "cell_type": "markdown",
   "metadata": {},
   "source": [
    "Il suffit de faire précéder la chaîne de caractères par **`f`**"
   ]
  },
  {
   "cell_type": "markdown",
   "metadata": {},
   "source": [
    "<div style=\"background-color:#333366;padding:10px;color:#ffffff;border-left:10px solid #9999ff;\">\n",
    "<b>🖥️ EXEMPLE</b>\n",
    "\n",
    "```python\n",
    "my_str = f\"hello world\"\n",
    "```\n",
    "\n",
    "</div>"
   ]
  },
  {
   "attachments": {},
   "cell_type": "markdown",
   "metadata": {},
   "source": [
    "###\n",
    " \n",
    "<h3 style=\"border-bottom:6px solid #ff0000;\">\n",
    "\n",
    "Inclure des expressions Python dans des **`f-string`**\n",
    "\n",
    "</h3>"
   ]
  },
  {
   "cell_type": "markdown",
   "metadata": {},
   "source": [
    "<div style=\"background-color:#333366;padding:10px;color:#ffffff;border-left:10px solid #9999ff;\">\n",
    "<b>🖥️ EXEMPLE</b>\n",
    "\n",
    "```python\n",
    "my_str = f\"hello world {3+2+4}\"\n",
    "```\n",
    "\n",
    "</div>"
   ]
  },
  {
   "attachments": {},
   "cell_type": "markdown",
   "metadata": {},
   "source": [
    "###\n",
    " \n",
    "<h3 style=\"border-bottom:6px solid #ff0000;\">\n",
    "\n",
    "Convertir automatiquement les valeurs dans une **`f-string`**\n",
    "\n",
    "</h3>"
   ]
  },
  {
   "cell_type": "markdown",
   "metadata": {},
   "source": [
    "<div style=\"background-color:#333366;padding:10px;color:#ffffff;border-left:10px solid #9999ff;\">\n",
    "<b>🖥️ EXEMPLE</b>\n",
    "\n",
    "```python\n",
    "my_str = f\"Here is a bool of value {42 == 42} and a float of value {2.3 + 1.3}\"\n",
    "```\n",
    "\n",
    "</div>"
   ]
  },
  {
   "cell_type": "markdown",
   "metadata": {},
   "source": [
    "<div style=\"background-color:#336633;padding:10px;color:#ffffff;border-left:10px solid #99ff99;\">\n",
    "<b>👀 INFORMATIONS</b>\n",
    "\n",
    "Il existe d'autres façon de formater une String mais elles sont moins intéressantes pour ce cours.\n",
    "</div>"
   ]
  },
  {
   "cell_type": "markdown",
   "metadata": {},
   "source": [
    "<div style=\"background-color:#663333;padding:10px;color:#ffffff;border-left:10px solid #ff9999;\">\n",
    "<b>🧠 EXERCICE</b>\n",
    "\n",
    "1. Exécuter les exemples ci-dessus.\n",
    "2. Expérimenter.\n",
    "3. Que se passe-t'il parfois quand on utilise des expressions avec des flottants ?\n",
    "\n",
    "</div>"
   ]
  },
  {
   "attachments": {},
   "cell_type": "markdown",
   "metadata": {},
   "source": [
    "###\n",
    " \n",
    "<h3 style=\"border-bottom:6px solid #ff0000;\">\n",
    "\n",
    "Formatter les **`f-strings`**\n",
    "\n",
    "</h3>"
   ]
  },
  {
   "attachments": {},
   "cell_type": "markdown",
   "metadata": {},
   "source": [
    "📘 [Format Specification Mini-Language](https://docs.python.org/3/library/string.html#format-specification-mini-language)"
   ]
  },
  {
   "cell_type": "markdown",
   "metadata": {},
   "source": [
    "<div style=\"background-color:#333366;padding:10px;color:#ffffff;border-left:10px solid #9999ff;\">\n",
    "<b>🖥️ EXEMPLE</b>\n",
    "\n",
    "```python\n",
    "# Rounding error\n",
    "my_float = 0.2 + 0.1\n",
    "# Direct print\n",
    "my_str = f\"Flottant f = {my_float}\"\n",
    "# With 2 decimals\n",
    "my_str = f\"Flottant f = {my_float:.2f}\"\n",
    "# With 10 characters in total\n",
    "my_str = f\"Flottant f = {my_float:10.2f}\"\n",
    "# With 10 characters and leading zeros\n",
    "my_str = f\"Flottant f = {my_float:010.2f}\"\n",
    "# With 10 characters, leading zeros and + sign if pertinent\n",
    "my_str = f\"Flottant f = {my_float:+010.2f}\"\n",
    "```\n",
    "\n",
    "</div>"
   ]
  },
  {
   "cell_type": "markdown",
   "metadata": {},
   "source": [
    "<div style=\"background-color:#663333;padding:10px;color:#ffffff;border-left:10px solid #ff9999;\">\n",
    "<b>🧠 EXERCICE</b>\n",
    "\n",
    "1. Exécuter les exemples ci-dessus.\n",
    "2. Expérimenter.\n",
    "\n",
    "</div>"
   ]
  },
  {
   "attachments": {},
   "cell_type": "markdown",
   "metadata": {},
   "source": [
    "<div style=\"background-color:#663333;padding:10px;color:#ffffff;border-left:10px solid #ff9999;\">\n",
    "<b>🧠 EXERCICE</b>\n",
    "\n",
    "1. Écrire une fonction qui convertit des secondes en heures, minutes et secondes et retourne le résultat.\n",
    "2. Utiliser les **`f-string`** pour afficher le résultat retourné en respectant l'orthographe.\n",
    "    \n",
    "    **Exemples :**\n",
    "\n",
    "        `3661 seconds = 1 hour, 1 minute and 1 second.`\n",
    "\n",
    "        `7322 seconds = 2 hours, 2 minutes and 2 seconds.` \n",
    "        \n",
    "</div>"
   ]
  },
  {
   "attachments": {},
   "cell_type": "markdown",
   "metadata": {},
   "source": [
    "<div style=\"background-color:#663333;padding:10px;color:#ffffff;border-left:10px solid #ff9999;\">\n",
    "<b>🧠 EXERCICE</b>\n",
    "\n",
    "1. Écrire une fonction qui calcule le PGCD de 2 entiers passés en paramètre.\n",
    "\n",
    "**NOTE :** la méthode \"naïve\" est autorisée ici.\n",
    "\n",
    "</div>"
   ]
  },
  {
   "attachments": {},
   "cell_type": "markdown",
   "metadata": {},
   "source": [
    "<div style=\"background-color:#663333;padding:10px;color:#ffffff;border-left:10px solid #ff9999;\">\n",
    "<b>🧠 EXERCICE</b>\n",
    "\n",
    "1. Écrire une fonction qui trie 3 entiers, en utilisant ni boucle, ni conditionnelle.\n",
    "   \n",
    "**Indice :** utiliser les fonctions prédéfinies [**`min`**](https://docs.python.org/3/library/functions.html#min) et [**`max`**](https://docs.python.org/3/library/functions.html#max).\n",
    "\n",
    "</div>"
   ]
  }
 ],
 "metadata": {
  "kernelspec": {
   "display_name": "HEArc_1242_4_Python",
   "language": "python",
   "name": "python3"
  },
  "language_info": {
   "codemirror_mode": {
    "name": "ipython",
    "version": 3
   },
   "file_extension": ".py",
   "mimetype": "text/x-python",
   "name": "python",
   "nbconvert_exporter": "python",
   "pygments_lexer": "ipython3",
   "version": "3.10.7"
  },
  "vscode": {
   "interpreter": {
    "hash": "0bba637f0253c5cb56e34ffeacbac2715efabf588c1383042dba3bc1eeeb3223"
   }
  }
 },
 "nbformat": 4,
 "nbformat_minor": 4
}
